{
 "cells": [
  {
   "cell_type": "markdown",
   "metadata": {},
   "source": [
    "##  Descripción:"
   ]
  },
  {
   "cell_type": "markdown",
   "metadata": {},
   "source": [
    "# <span style=\"color:rgba(0, 0, 255, 0.8)\">Descarga de datos y preparación para el análisis</span>\n"
   ]
  },
  {
   "cell_type": "code",
   "execution_count": 293,
   "metadata": {},
   "outputs": [],
   "source": [
    "# Importación de librerías\n",
    "import pandas as pd\n",
    "import numpy as np\n",
    "import matplotlib.pyplot as plt\n",
    "import seaborn as sns\n",
    "from matplotlib.colors import LinearSegmentedColormap"
   ]
  },
  {
   "cell_type": "code",
   "execution_count": 294,
   "metadata": {},
   "outputs": [],
   "source": [
    "# Cargando muestra de la tabla visitas\n",
    "\n",
    "data_visitas=pd.read_csv(\"/datasets/visits_log_us.csv\",nrows=500)\n"
   ]
  },
  {
   "cell_type": "code",
   "execution_count": 295,
   "metadata": {},
   "outputs": [
    {
     "name": "stdout",
     "output_type": "stream",
     "text": [
      "<class 'pandas.core.frame.DataFrame'>\n",
      "RangeIndex: 500 entries, 0 to 499\n",
      "Data columns (total 5 columns):\n",
      " #   Column     Non-Null Count  Dtype \n",
      "---  ------     --------------  ----- \n",
      " 0   Device     500 non-null    object\n",
      " 1   End Ts     500 non-null    object\n",
      " 2   Source Id  500 non-null    int64 \n",
      " 3   Start Ts   500 non-null    object\n",
      " 4   Uid        500 non-null    uint64\n",
      "dtypes: int64(1), object(3), uint64(1)\n",
      "memory usage: 19.7+ KB\n"
     ]
    }
   ],
   "source": [
    "data_visitas.info()"
   ]
  },
  {
   "cell_type": "code",
   "execution_count": 296,
   "metadata": {},
   "outputs": [
    {
     "data": {
      "text/html": [
       "<div>\n",
       "<style scoped>\n",
       "    .dataframe tbody tr th:only-of-type {\n",
       "        vertical-align: middle;\n",
       "    }\n",
       "\n",
       "    .dataframe tbody tr th {\n",
       "        vertical-align: top;\n",
       "    }\n",
       "\n",
       "    .dataframe thead th {\n",
       "        text-align: right;\n",
       "    }\n",
       "</style>\n",
       "<table border=\"1\" class=\"dataframe\">\n",
       "  <thead>\n",
       "    <tr style=\"text-align: right;\">\n",
       "      <th></th>\n",
       "      <th>Device</th>\n",
       "      <th>End Ts</th>\n",
       "      <th>Source Id</th>\n",
       "      <th>Start Ts</th>\n",
       "      <th>Uid</th>\n",
       "    </tr>\n",
       "  </thead>\n",
       "  <tbody>\n",
       "    <tr>\n",
       "      <th>88</th>\n",
       "      <td>touch</td>\n",
       "      <td>2018-03-20 22:23:00</td>\n",
       "      <td>3</td>\n",
       "      <td>2018-03-20 22:12:00</td>\n",
       "      <td>14846043669385494448</td>\n",
       "    </tr>\n",
       "    <tr>\n",
       "      <th>335</th>\n",
       "      <td>touch</td>\n",
       "      <td>2018-03-23 09:34:00</td>\n",
       "      <td>4</td>\n",
       "      <td>2018-03-23 09:26:00</td>\n",
       "      <td>15882611572247958118</td>\n",
       "    </tr>\n",
       "    <tr>\n",
       "      <th>417</th>\n",
       "      <td>desktop</td>\n",
       "      <td>2017-12-29 16:26:00</td>\n",
       "      <td>1</td>\n",
       "      <td>2017-12-29 16:16:00</td>\n",
       "      <td>12096946497123941915</td>\n",
       "    </tr>\n",
       "    <tr>\n",
       "      <th>410</th>\n",
       "      <td>desktop</td>\n",
       "      <td>2018-02-21 07:33:00</td>\n",
       "      <td>4</td>\n",
       "      <td>2018-02-21 07:17:00</td>\n",
       "      <td>10160762237776489958</td>\n",
       "    </tr>\n",
       "    <tr>\n",
       "      <th>267</th>\n",
       "      <td>desktop</td>\n",
       "      <td>2017-09-18 01:31:00</td>\n",
       "      <td>10</td>\n",
       "      <td>2017-09-18 01:30:00</td>\n",
       "      <td>233175002580971273</td>\n",
       "    </tr>\n",
       "    <tr>\n",
       "      <th>490</th>\n",
       "      <td>desktop</td>\n",
       "      <td>2018-05-05 00:34:00</td>\n",
       "      <td>5</td>\n",
       "      <td>2018-05-05 00:34:00</td>\n",
       "      <td>7893900496339483170</td>\n",
       "    </tr>\n",
       "    <tr>\n",
       "      <th>409</th>\n",
       "      <td>desktop</td>\n",
       "      <td>2017-12-31 20:29:00</td>\n",
       "      <td>3</td>\n",
       "      <td>2017-12-31 20:13:00</td>\n",
       "      <td>9948627932378193650</td>\n",
       "    </tr>\n",
       "    <tr>\n",
       "      <th>41</th>\n",
       "      <td>touch</td>\n",
       "      <td>2017-06-30 12:39:00</td>\n",
       "      <td>3</td>\n",
       "      <td>2017-06-30 12:38:00</td>\n",
       "      <td>5743775802146959648</td>\n",
       "    </tr>\n",
       "    <tr>\n",
       "      <th>17</th>\n",
       "      <td>desktop</td>\n",
       "      <td>2018-05-30 08:51:00</td>\n",
       "      <td>5</td>\n",
       "      <td>2018-05-30 08:49:00</td>\n",
       "      <td>7415904268540941371</td>\n",
       "    </tr>\n",
       "    <tr>\n",
       "      <th>300</th>\n",
       "      <td>desktop</td>\n",
       "      <td>2018-01-30 16:07:00</td>\n",
       "      <td>3</td>\n",
       "      <td>2018-01-30 15:02:00</td>\n",
       "      <td>3886599060080125793</td>\n",
       "    </tr>\n",
       "  </tbody>\n",
       "</table>\n",
       "</div>"
      ],
      "text/plain": [
       "      Device               End Ts  Source Id             Start Ts  \\\n",
       "88     touch  2018-03-20 22:23:00          3  2018-03-20 22:12:00   \n",
       "335    touch  2018-03-23 09:34:00          4  2018-03-23 09:26:00   \n",
       "417  desktop  2017-12-29 16:26:00          1  2017-12-29 16:16:00   \n",
       "410  desktop  2018-02-21 07:33:00          4  2018-02-21 07:17:00   \n",
       "267  desktop  2017-09-18 01:31:00         10  2017-09-18 01:30:00   \n",
       "490  desktop  2018-05-05 00:34:00          5  2018-05-05 00:34:00   \n",
       "409  desktop  2017-12-31 20:29:00          3  2017-12-31 20:13:00   \n",
       "41     touch  2017-06-30 12:39:00          3  2017-06-30 12:38:00   \n",
       "17   desktop  2018-05-30 08:51:00          5  2018-05-30 08:49:00   \n",
       "300  desktop  2018-01-30 16:07:00          3  2018-01-30 15:02:00   \n",
       "\n",
       "                      Uid  \n",
       "88   14846043669385494448  \n",
       "335  15882611572247958118  \n",
       "417  12096946497123941915  \n",
       "410  10160762237776489958  \n",
       "267    233175002580971273  \n",
       "490   7893900496339483170  \n",
       "409   9948627932378193650  \n",
       "41    5743775802146959648  \n",
       "17    7415904268540941371  \n",
       "300   3886599060080125793  "
      ]
     },
     "execution_count": 296,
     "metadata": {},
     "output_type": "execute_result"
    }
   ],
   "source": [
    "data_visitas.sample(10)"
   ]
  },
  {
   "cell_type": "markdown",
   "metadata": {},
   "source": [
    "En la muestra hay columnas de tipo de fecha (End Ts,Start Ts) que no están en el formato correcto, además la columna Device debería ser de tipo string o categorico.\n",
    "A continuación se cargará la data con los tipos de datos correctos."
   ]
  },
  {
   "cell_type": "code",
   "execution_count": 297,
   "metadata": {},
   "outputs": [],
   "source": [
    "# Cargando  la tabla visitas\n",
    "data_visitas=pd.read_csv(\"/datasets/visits_log_us.csv\",dtype={'Device': 'category'}, parse_dates=['Start Ts', 'End Ts'])"
   ]
  },
  {
   "cell_type": "code",
   "execution_count": 298,
   "metadata": {},
   "outputs": [
    {
     "name": "stdout",
     "output_type": "stream",
     "text": [
      "<class 'pandas.core.frame.DataFrame'>\n",
      "RangeIndex: 359400 entries, 0 to 359399\n",
      "Data columns (total 5 columns):\n",
      " #   Column     Non-Null Count   Dtype         \n",
      "---  ------     --------------   -----         \n",
      " 0   Device     359400 non-null  category      \n",
      " 1   End Ts     359400 non-null  datetime64[ns]\n",
      " 2   Source Id  359400 non-null  int64         \n",
      " 3   Start Ts   359400 non-null  datetime64[ns]\n",
      " 4   Uid        359400 non-null  uint64        \n",
      "dtypes: category(1), datetime64[ns](2), int64(1), uint64(1)\n",
      "memory usage: 11.3 MB\n"
     ]
    }
   ],
   "source": [
    "data_visitas.info()"
   ]
  },
  {
   "cell_type": "code",
   "execution_count": 299,
   "metadata": {},
   "outputs": [
    {
     "data": {
      "text/plain": [
       "['touch', 'desktop']\n",
       "Categories (2, object): ['touch', 'desktop']"
      ]
     },
     "execution_count": 299,
     "metadata": {},
     "output_type": "execute_result"
    }
   ],
   "source": [
    "data_visitas[\"Device\"].unique()"
   ]
  },
  {
   "cell_type": "code",
   "execution_count": 300,
   "metadata": {},
   "outputs": [],
   "source": [
    "# Cargando muestra de la tabla ordenes\n",
    "data_ordenes=pd.read_csv(\"/datasets/orders_log_us.csv\",nrows=500)\n"
   ]
  },
  {
   "cell_type": "code",
   "execution_count": 301,
   "metadata": {},
   "outputs": [
    {
     "name": "stdout",
     "output_type": "stream",
     "text": [
      "<class 'pandas.core.frame.DataFrame'>\n",
      "RangeIndex: 500 entries, 0 to 499\n",
      "Data columns (total 3 columns):\n",
      " #   Column   Non-Null Count  Dtype  \n",
      "---  ------   --------------  -----  \n",
      " 0   Buy Ts   500 non-null    object \n",
      " 1   Revenue  500 non-null    float64\n",
      " 2   Uid      500 non-null    uint64 \n",
      "dtypes: float64(1), object(1), uint64(1)\n",
      "memory usage: 11.8+ KB\n"
     ]
    }
   ],
   "source": [
    "data_ordenes.info()"
   ]
  },
  {
   "cell_type": "code",
   "execution_count": 302,
   "metadata": {},
   "outputs": [
    {
     "data": {
      "text/html": [
       "<div>\n",
       "<style scoped>\n",
       "    .dataframe tbody tr th:only-of-type {\n",
       "        vertical-align: middle;\n",
       "    }\n",
       "\n",
       "    .dataframe tbody tr th {\n",
       "        vertical-align: top;\n",
       "    }\n",
       "\n",
       "    .dataframe thead th {\n",
       "        text-align: right;\n",
       "    }\n",
       "</style>\n",
       "<table border=\"1\" class=\"dataframe\">\n",
       "  <thead>\n",
       "    <tr style=\"text-align: right;\">\n",
       "      <th></th>\n",
       "      <th>Buy Ts</th>\n",
       "      <th>Revenue</th>\n",
       "      <th>Uid</th>\n",
       "    </tr>\n",
       "  </thead>\n",
       "  <tbody>\n",
       "    <tr>\n",
       "      <th>449</th>\n",
       "      <td>2017-06-05 18:43:00</td>\n",
       "      <td>8.55</td>\n",
       "      <td>1389884115428195884</td>\n",
       "    </tr>\n",
       "    <tr>\n",
       "      <th>51</th>\n",
       "      <td>2017-06-01 19:22:00</td>\n",
       "      <td>3.48</td>\n",
       "      <td>1445776368244927621</td>\n",
       "    </tr>\n",
       "    <tr>\n",
       "      <th>99</th>\n",
       "      <td>2017-06-02 00:55:00</td>\n",
       "      <td>1.22</td>\n",
       "      <td>12044090133793755196</td>\n",
       "    </tr>\n",
       "    <tr>\n",
       "      <th>60</th>\n",
       "      <td>2017-06-01 20:25:00</td>\n",
       "      <td>2.44</td>\n",
       "      <td>8505275122433195603</td>\n",
       "    </tr>\n",
       "    <tr>\n",
       "      <th>84</th>\n",
       "      <td>2017-06-01 22:05:00</td>\n",
       "      <td>9.78</td>\n",
       "      <td>8040175152097812665</td>\n",
       "    </tr>\n",
       "    <tr>\n",
       "      <th>356</th>\n",
       "      <td>2017-06-05 09:46:00</td>\n",
       "      <td>2.44</td>\n",
       "      <td>11859028149883916307</td>\n",
       "    </tr>\n",
       "    <tr>\n",
       "      <th>75</th>\n",
       "      <td>2017-06-01 21:45:00</td>\n",
       "      <td>0.24</td>\n",
       "      <td>11726070853000284272</td>\n",
       "    </tr>\n",
       "    <tr>\n",
       "      <th>309</th>\n",
       "      <td>2017-06-04 16:05:00</td>\n",
       "      <td>2.81</td>\n",
       "      <td>11942638596221116814</td>\n",
       "    </tr>\n",
       "    <tr>\n",
       "      <th>26</th>\n",
       "      <td>2017-06-01 14:20:00</td>\n",
       "      <td>1.47</td>\n",
       "      <td>4899721912549460321</td>\n",
       "    </tr>\n",
       "    <tr>\n",
       "      <th>28</th>\n",
       "      <td>2017-06-01 14:26:00</td>\n",
       "      <td>1.34</td>\n",
       "      <td>1306739390297736782</td>\n",
       "    </tr>\n",
       "  </tbody>\n",
       "</table>\n",
       "</div>"
      ],
      "text/plain": [
       "                  Buy Ts  Revenue                   Uid\n",
       "449  2017-06-05 18:43:00     8.55   1389884115428195884\n",
       "51   2017-06-01 19:22:00     3.48   1445776368244927621\n",
       "99   2017-06-02 00:55:00     1.22  12044090133793755196\n",
       "60   2017-06-01 20:25:00     2.44   8505275122433195603\n",
       "84   2017-06-01 22:05:00     9.78   8040175152097812665\n",
       "356  2017-06-05 09:46:00     2.44  11859028149883916307\n",
       "75   2017-06-01 21:45:00     0.24  11726070853000284272\n",
       "309  2017-06-04 16:05:00     2.81  11942638596221116814\n",
       "26   2017-06-01 14:20:00     1.47   4899721912549460321\n",
       "28   2017-06-01 14:26:00     1.34   1306739390297736782"
      ]
     },
     "execution_count": 302,
     "metadata": {},
     "output_type": "execute_result"
    }
   ],
   "source": [
    "data_ordenes.sample(10)"
   ]
  },
  {
   "cell_type": "markdown",
   "metadata": {},
   "source": [
    "La columna Buy Ts, no está en el formato correcto."
   ]
  },
  {
   "cell_type": "code",
   "execution_count": 303,
   "metadata": {},
   "outputs": [],
   "source": [
    "# Cargando  la tabla ordenes\n",
    "data_ordenes=pd.read_csv(\"/datasets/orders_log_us.csv\",parse_dates=['Buy Ts'])"
   ]
  },
  {
   "cell_type": "code",
   "execution_count": 304,
   "metadata": {},
   "outputs": [
    {
     "name": "stdout",
     "output_type": "stream",
     "text": [
      "<class 'pandas.core.frame.DataFrame'>\n",
      "RangeIndex: 50415 entries, 0 to 50414\n",
      "Data columns (total 3 columns):\n",
      " #   Column   Non-Null Count  Dtype         \n",
      "---  ------   --------------  -----         \n",
      " 0   Buy Ts   50415 non-null  datetime64[ns]\n",
      " 1   Revenue  50415 non-null  float64       \n",
      " 2   Uid      50415 non-null  uint64        \n",
      "dtypes: datetime64[ns](1), float64(1), uint64(1)\n",
      "memory usage: 1.2 MB\n"
     ]
    }
   ],
   "source": [
    "data_ordenes.info()"
   ]
  },
  {
   "cell_type": "code",
   "execution_count": 305,
   "metadata": {},
   "outputs": [],
   "source": [
    "# Cargando muestra de la tabla costos\n",
    "data_costos=pd.read_csv(\"/datasets/costs_us.csv\",nrows=500)\n"
   ]
  },
  {
   "cell_type": "code",
   "execution_count": 306,
   "metadata": {},
   "outputs": [
    {
     "name": "stdout",
     "output_type": "stream",
     "text": [
      "<class 'pandas.core.frame.DataFrame'>\n",
      "RangeIndex: 500 entries, 0 to 499\n",
      "Data columns (total 3 columns):\n",
      " #   Column     Non-Null Count  Dtype  \n",
      "---  ------     --------------  -----  \n",
      " 0   source_id  500 non-null    int64  \n",
      " 1   dt         500 non-null    object \n",
      " 2   costs      500 non-null    float64\n",
      "dtypes: float64(1), int64(1), object(1)\n",
      "memory usage: 11.8+ KB\n"
     ]
    }
   ],
   "source": [
    "data_costos.info()"
   ]
  },
  {
   "cell_type": "code",
   "execution_count": 307,
   "metadata": {},
   "outputs": [
    {
     "data": {
      "text/html": [
       "<div>\n",
       "<style scoped>\n",
       "    .dataframe tbody tr th:only-of-type {\n",
       "        vertical-align: middle;\n",
       "    }\n",
       "\n",
       "    .dataframe tbody tr th {\n",
       "        vertical-align: top;\n",
       "    }\n",
       "\n",
       "    .dataframe thead th {\n",
       "        text-align: right;\n",
       "    }\n",
       "</style>\n",
       "<table border=\"1\" class=\"dataframe\">\n",
       "  <thead>\n",
       "    <tr style=\"text-align: right;\">\n",
       "      <th></th>\n",
       "      <th>source_id</th>\n",
       "      <th>dt</th>\n",
       "      <th>costs</th>\n",
       "    </tr>\n",
       "  </thead>\n",
       "  <tbody>\n",
       "    <tr>\n",
       "      <th>416</th>\n",
       "      <td>2</td>\n",
       "      <td>2017-07-24</td>\n",
       "      <td>62.56</td>\n",
       "    </tr>\n",
       "    <tr>\n",
       "      <th>33</th>\n",
       "      <td>1</td>\n",
       "      <td>2017-07-04</td>\n",
       "      <td>37.63</td>\n",
       "    </tr>\n",
       "    <tr>\n",
       "      <th>397</th>\n",
       "      <td>2</td>\n",
       "      <td>2017-07-05</td>\n",
       "      <td>58.95</td>\n",
       "    </tr>\n",
       "    <tr>\n",
       "      <th>197</th>\n",
       "      <td>1</td>\n",
       "      <td>2017-12-15</td>\n",
       "      <td>89.68</td>\n",
       "    </tr>\n",
       "    <tr>\n",
       "      <th>218</th>\n",
       "      <td>1</td>\n",
       "      <td>2018-01-05</td>\n",
       "      <td>77.45</td>\n",
       "    </tr>\n",
       "  </tbody>\n",
       "</table>\n",
       "</div>"
      ],
      "text/plain": [
       "     source_id          dt  costs\n",
       "416          2  2017-07-24  62.56\n",
       "33           1  2017-07-04  37.63\n",
       "397          2  2017-07-05  58.95\n",
       "197          1  2017-12-15  89.68\n",
       "218          1  2018-01-05  77.45"
      ]
     },
     "execution_count": 307,
     "metadata": {},
     "output_type": "execute_result"
    }
   ],
   "source": [
    "data_costos.sample(5)"
   ]
  },
  {
   "cell_type": "code",
   "execution_count": 308,
   "metadata": {},
   "outputs": [],
   "source": [
    "# Cargando  la tabla ordenes\n",
    "data_costos=pd.read_csv(\"/datasets/costs_us.csv\",parse_dates=['dt'])"
   ]
  },
  {
   "cell_type": "code",
   "execution_count": 309,
   "metadata": {},
   "outputs": [
    {
     "name": "stdout",
     "output_type": "stream",
     "text": [
      "<class 'pandas.core.frame.DataFrame'>\n",
      "RangeIndex: 2542 entries, 0 to 2541\n",
      "Data columns (total 3 columns):\n",
      " #   Column     Non-Null Count  Dtype         \n",
      "---  ------     --------------  -----         \n",
      " 0   source_id  2542 non-null   int64         \n",
      " 1   dt         2542 non-null   datetime64[ns]\n",
      " 2   costs      2542 non-null   float64       \n",
      "dtypes: datetime64[ns](1), float64(1), int64(1)\n",
      "memory usage: 59.7 KB\n"
     ]
    }
   ],
   "source": [
    "data_costos.info()"
   ]
  },
  {
   "cell_type": "markdown",
   "metadata": {},
   "source": [
    "Otra observación encontrada es que en la tabla de visitas y tabla ordenes, los nombres de las columnas contienen espacios y mayúsculas,se corregirá esta observación para mejorar legibilidad, la consistencia y la accesibilidad de los datos,"
   ]
  },
  {
   "cell_type": "code",
   "execution_count": 310,
   "metadata": {},
   "outputs": [],
   "source": [
    "# función para cambio de nombres\n",
    "def change_names(columnas_name):\n",
    "    new_col_names=[]\n",
    "    for old_name in columnas_name:\n",
    "        name_stripped = old_name.strip()\n",
    "        name_lowered = name_stripped.lower()\n",
    "        name_no_spaces = name_lowered.replace(\" \",\"_\")\n",
    "        new_col_names.append(name_no_spaces)\n",
    "    return new_col_names"
   ]
  },
  {
   "cell_type": "code",
   "execution_count": 311,
   "metadata": {},
   "outputs": [],
   "source": [
    "data_visitas.columns=change_names(data_visitas.columns)\n",
    "data_ordenes.columns=change_names(data_ordenes.columns)"
   ]
  },
  {
   "cell_type": "code",
   "execution_count": 312,
   "metadata": {},
   "outputs": [
    {
     "data": {
      "text/html": [
       "<div>\n",
       "<style scoped>\n",
       "    .dataframe tbody tr th:only-of-type {\n",
       "        vertical-align: middle;\n",
       "    }\n",
       "\n",
       "    .dataframe tbody tr th {\n",
       "        vertical-align: top;\n",
       "    }\n",
       "\n",
       "    .dataframe thead th {\n",
       "        text-align: right;\n",
       "    }\n",
       "</style>\n",
       "<table border=\"1\" class=\"dataframe\">\n",
       "  <thead>\n",
       "    <tr style=\"text-align: right;\">\n",
       "      <th></th>\n",
       "      <th>device</th>\n",
       "      <th>end_ts</th>\n",
       "      <th>source_id</th>\n",
       "      <th>start_ts</th>\n",
       "      <th>uid</th>\n",
       "    </tr>\n",
       "  </thead>\n",
       "  <tbody>\n",
       "    <tr>\n",
       "      <th>0</th>\n",
       "      <td>touch</td>\n",
       "      <td>2017-12-20 17:38:00</td>\n",
       "      <td>4</td>\n",
       "      <td>2017-12-20 17:20:00</td>\n",
       "      <td>16879256277535980062</td>\n",
       "    </tr>\n",
       "  </tbody>\n",
       "</table>\n",
       "</div>"
      ],
      "text/plain": [
       "  device              end_ts  source_id            start_ts  \\\n",
       "0  touch 2017-12-20 17:38:00          4 2017-12-20 17:20:00   \n",
       "\n",
       "                    uid  \n",
       "0  16879256277535980062  "
      ]
     },
     "execution_count": 312,
     "metadata": {},
     "output_type": "execute_result"
    }
   ],
   "source": [
    "data_visitas.head(1)"
   ]
  },
  {
   "cell_type": "code",
   "execution_count": 313,
   "metadata": {},
   "outputs": [
    {
     "data": {
      "text/html": [
       "<div>\n",
       "<style scoped>\n",
       "    .dataframe tbody tr th:only-of-type {\n",
       "        vertical-align: middle;\n",
       "    }\n",
       "\n",
       "    .dataframe tbody tr th {\n",
       "        vertical-align: top;\n",
       "    }\n",
       "\n",
       "    .dataframe thead th {\n",
       "        text-align: right;\n",
       "    }\n",
       "</style>\n",
       "<table border=\"1\" class=\"dataframe\">\n",
       "  <thead>\n",
       "    <tr style=\"text-align: right;\">\n",
       "      <th></th>\n",
       "      <th>buy_ts</th>\n",
       "      <th>revenue</th>\n",
       "      <th>uid</th>\n",
       "    </tr>\n",
       "  </thead>\n",
       "  <tbody>\n",
       "    <tr>\n",
       "      <th>0</th>\n",
       "      <td>2017-06-01 00:10:00</td>\n",
       "      <td>17.0</td>\n",
       "      <td>10329302124590727494</td>\n",
       "    </tr>\n",
       "  </tbody>\n",
       "</table>\n",
       "</div>"
      ],
      "text/plain": [
       "               buy_ts  revenue                   uid\n",
       "0 2017-06-01 00:10:00     17.0  10329302124590727494"
      ]
     },
     "execution_count": 313,
     "metadata": {},
     "output_type": "execute_result"
    }
   ],
   "source": [
    "data_ordenes.head(1)"
   ]
  },
  {
   "cell_type": "markdown",
   "metadata": {},
   "source": [
    "No se encontraron valores nulos en las tablas, se verifica duplicados:"
   ]
  },
  {
   "cell_type": "code",
   "execution_count": 314,
   "metadata": {},
   "outputs": [
    {
     "data": {
      "text/plain": [
       "0"
      ]
     },
     "execution_count": 314,
     "metadata": {},
     "output_type": "execute_result"
    }
   ],
   "source": [
    "data_visitas.duplicated().sum()"
   ]
  },
  {
   "cell_type": "code",
   "execution_count": 315,
   "metadata": {},
   "outputs": [
    {
     "data": {
      "text/plain": [
       "0"
      ]
     },
     "execution_count": 315,
     "metadata": {},
     "output_type": "execute_result"
    }
   ],
   "source": [
    "data_ordenes.duplicated().sum()"
   ]
  },
  {
   "cell_type": "markdown",
   "metadata": {},
   "source": [
    "No hay filas duplicados."
   ]
  },
  {
   "cell_type": "markdown",
   "metadata": {},
   "source": [
    "\n",
    "# <span style=\"color:rgba(0, 0, 255, 0.8)\">Informes y  métricas </span>"
   ]
  },
  {
   "cell_type": "markdown",
   "metadata": {},
   "source": [
    "## Visitas:"
   ]
  },
  {
   "cell_type": "markdown",
   "metadata": {},
   "source": [
    "### ¿Cuántas personas lo usan cada día, semana y mes?"
   ]
  },
  {
   "cell_type": "code",
   "execution_count": 316,
   "metadata": {},
   "outputs": [
    {
     "data": {
      "text/html": [
       "<div>\n",
       "<style scoped>\n",
       "    .dataframe tbody tr th:only-of-type {\n",
       "        vertical-align: middle;\n",
       "    }\n",
       "\n",
       "    .dataframe tbody tr th {\n",
       "        vertical-align: top;\n",
       "    }\n",
       "\n",
       "    .dataframe thead th {\n",
       "        text-align: right;\n",
       "    }\n",
       "</style>\n",
       "<table border=\"1\" class=\"dataframe\">\n",
       "  <thead>\n",
       "    <tr style=\"text-align: right;\">\n",
       "      <th></th>\n",
       "      <th>device</th>\n",
       "      <th>end_ts</th>\n",
       "      <th>source_id</th>\n",
       "      <th>start_ts</th>\n",
       "      <th>uid</th>\n",
       "    </tr>\n",
       "  </thead>\n",
       "  <tbody>\n",
       "    <tr>\n",
       "      <th>0</th>\n",
       "      <td>touch</td>\n",
       "      <td>2017-12-20 17:38:00</td>\n",
       "      <td>4</td>\n",
       "      <td>2017-12-20 17:20:00</td>\n",
       "      <td>16879256277535980062</td>\n",
       "    </tr>\n",
       "    <tr>\n",
       "      <th>1</th>\n",
       "      <td>desktop</td>\n",
       "      <td>2018-02-19 17:21:00</td>\n",
       "      <td>2</td>\n",
       "      <td>2018-02-19 16:53:00</td>\n",
       "      <td>104060357244891740</td>\n",
       "    </tr>\n",
       "    <tr>\n",
       "      <th>2</th>\n",
       "      <td>touch</td>\n",
       "      <td>2017-07-01 01:54:00</td>\n",
       "      <td>5</td>\n",
       "      <td>2017-07-01 01:54:00</td>\n",
       "      <td>7459035603376831527</td>\n",
       "    </tr>\n",
       "    <tr>\n",
       "      <th>3</th>\n",
       "      <td>desktop</td>\n",
       "      <td>2018-05-20 11:23:00</td>\n",
       "      <td>9</td>\n",
       "      <td>2018-05-20 10:59:00</td>\n",
       "      <td>16174680259334210214</td>\n",
       "    </tr>\n",
       "    <tr>\n",
       "      <th>4</th>\n",
       "      <td>desktop</td>\n",
       "      <td>2017-12-27 14:06:00</td>\n",
       "      <td>3</td>\n",
       "      <td>2017-12-27 14:06:00</td>\n",
       "      <td>9969694820036681168</td>\n",
       "    </tr>\n",
       "  </tbody>\n",
       "</table>\n",
       "</div>"
      ],
      "text/plain": [
       "    device              end_ts  source_id            start_ts  \\\n",
       "0    touch 2017-12-20 17:38:00          4 2017-12-20 17:20:00   \n",
       "1  desktop 2018-02-19 17:21:00          2 2018-02-19 16:53:00   \n",
       "2    touch 2017-07-01 01:54:00          5 2017-07-01 01:54:00   \n",
       "3  desktop 2018-05-20 11:23:00          9 2018-05-20 10:59:00   \n",
       "4  desktop 2017-12-27 14:06:00          3 2017-12-27 14:06:00   \n",
       "\n",
       "                    uid  \n",
       "0  16879256277535980062  \n",
       "1    104060357244891740  \n",
       "2   7459035603376831527  \n",
       "3  16174680259334210214  \n",
       "4   9969694820036681168  "
      ]
     },
     "execution_count": 316,
     "metadata": {},
     "output_type": "execute_result"
    }
   ],
   "source": [
    "data_visitas.head(5)"
   ]
  },
  {
   "cell_type": "code",
   "execution_count": 317,
   "metadata": {},
   "outputs": [],
   "source": [
    "data_visitas[\"session_year\"] = data_visitas[\"start_ts\"].dt.year \n",
    "data_visitas[\"session_month\"] =data_visitas[\"start_ts\"].dt.month\n",
    "data_visitas['session_week']=data_visitas[\"start_ts\"].dt.isocalendar().week\n",
    "data_visitas[\"session_date\"] = data_visitas[\"start_ts\"].dt.date"
   ]
  },
  {
   "cell_type": "code",
   "execution_count": 318,
   "metadata": {},
   "outputs": [
    {
     "data": {
      "text/html": [
       "<div>\n",
       "<style scoped>\n",
       "    .dataframe tbody tr th:only-of-type {\n",
       "        vertical-align: middle;\n",
       "    }\n",
       "\n",
       "    .dataframe tbody tr th {\n",
       "        vertical-align: top;\n",
       "    }\n",
       "\n",
       "    .dataframe thead th {\n",
       "        text-align: right;\n",
       "    }\n",
       "</style>\n",
       "<table border=\"1\" class=\"dataframe\">\n",
       "  <thead>\n",
       "    <tr style=\"text-align: right;\">\n",
       "      <th></th>\n",
       "      <th>session_year</th>\n",
       "      <th>session_month</th>\n",
       "      <th>uid</th>\n",
       "    </tr>\n",
       "  </thead>\n",
       "  <tbody>\n",
       "    <tr>\n",
       "      <th>0</th>\n",
       "      <td>2017</td>\n",
       "      <td>6</td>\n",
       "      <td>13259</td>\n",
       "    </tr>\n",
       "    <tr>\n",
       "      <th>1</th>\n",
       "      <td>2017</td>\n",
       "      <td>7</td>\n",
       "      <td>14183</td>\n",
       "    </tr>\n",
       "    <tr>\n",
       "      <th>2</th>\n",
       "      <td>2017</td>\n",
       "      <td>8</td>\n",
       "      <td>11631</td>\n",
       "    </tr>\n",
       "    <tr>\n",
       "      <th>3</th>\n",
       "      <td>2017</td>\n",
       "      <td>9</td>\n",
       "      <td>18975</td>\n",
       "    </tr>\n",
       "    <tr>\n",
       "      <th>4</th>\n",
       "      <td>2017</td>\n",
       "      <td>10</td>\n",
       "      <td>29692</td>\n",
       "    </tr>\n",
       "    <tr>\n",
       "      <th>5</th>\n",
       "      <td>2017</td>\n",
       "      <td>11</td>\n",
       "      <td>32797</td>\n",
       "    </tr>\n",
       "    <tr>\n",
       "      <th>6</th>\n",
       "      <td>2017</td>\n",
       "      <td>12</td>\n",
       "      <td>31557</td>\n",
       "    </tr>\n",
       "    <tr>\n",
       "      <th>7</th>\n",
       "      <td>2018</td>\n",
       "      <td>1</td>\n",
       "      <td>28716</td>\n",
       "    </tr>\n",
       "    <tr>\n",
       "      <th>8</th>\n",
       "      <td>2018</td>\n",
       "      <td>2</td>\n",
       "      <td>28749</td>\n",
       "    </tr>\n",
       "    <tr>\n",
       "      <th>9</th>\n",
       "      <td>2018</td>\n",
       "      <td>3</td>\n",
       "      <td>27473</td>\n",
       "    </tr>\n",
       "    <tr>\n",
       "      <th>10</th>\n",
       "      <td>2018</td>\n",
       "      <td>4</td>\n",
       "      <td>21008</td>\n",
       "    </tr>\n",
       "    <tr>\n",
       "      <th>11</th>\n",
       "      <td>2018</td>\n",
       "      <td>5</td>\n",
       "      <td>20701</td>\n",
       "    </tr>\n",
       "  </tbody>\n",
       "</table>\n",
       "</div>"
      ],
      "text/plain": [
       "    session_year  session_month    uid\n",
       "0           2017              6  13259\n",
       "1           2017              7  14183\n",
       "2           2017              8  11631\n",
       "3           2017              9  18975\n",
       "4           2017             10  29692\n",
       "5           2017             11  32797\n",
       "6           2017             12  31557\n",
       "7           2018              1  28716\n",
       "8           2018              2  28749\n",
       "9           2018              3  27473\n",
       "10          2018              4  21008\n",
       "11          2018              5  20701"
      ]
     },
     "metadata": {},
     "output_type": "display_data"
    }
   ],
   "source": [
    "usuarios_por_mes = data_visitas.groupby([\"session_year\",'session_month'])[\"uid\"].nunique().reset_index()\n",
    "display(usuarios_por_mes)"
   ]
  },
  {
   "cell_type": "code",
   "execution_count": 319,
   "metadata": {},
   "outputs": [
    {
     "name": "stdout",
     "output_type": "stream",
     "text": [
      "23228.416666666668\n"
     ]
    }
   ],
   "source": [
    "mean_users =usuarios_por_mes[\"uid\"].mean()\n",
    "print(mean_users)"
   ]
  },
  {
   "cell_type": "code",
   "execution_count": 320,
   "metadata": {},
   "outputs": [
    {
     "data": {
      "image/png": "[encoded data removed]",
      "text/plain": [
       "<Figure size 432x288 with 1 Axes>"
      ]
     },
     "metadata": {},
     "output_type": "display_data"
    }
   ],
   "source": [
    "# Crea el gráfico de barras\n",
    "plt.bar(usuarios_por_mes['session_year'].astype(str) + '-' + usuarios_por_mes[\"session_month\"].astype(str), usuarios_por_mes['uid'], color='skyblue')\n",
    "# Etiquetas de los ejes y título\n",
    "plt.xlabel('Año-Mes')\n",
    "plt.ylabel('Número de Usuarios')\n",
    "plt.title('Número de Usuarios por Año y Mes')\n",
    "# Agrega una línea para el promedio de usuarios\n",
    "plt.axhline(mean_users, color='red', linestyle='--', label='Promedio de Usuarios')\n",
    "# Mostrar el gráfico\n",
    "plt.xticks(rotation=45)\n",
    "plt.tight_layout()\n",
    "plt.show()"
   ]
  },
  {
   "cell_type": "markdown",
   "metadata": {},
   "source": [
    "En promedio 23228 personas usan la aplicación mensualmente.\n",
    "Los meses de mayor demanda fueron los ùltimos 3 meses del 2017."
   ]
  },
  {
   "cell_type": "code",
   "execution_count": 321,
   "metadata": {
    "scrolled": true
   },
   "outputs": [
    {
     "data": {
      "text/html": [
       "<div>\n",
       "<style scoped>\n",
       "    .dataframe tbody tr th:only-of-type {\n",
       "        vertical-align: middle;\n",
       "    }\n",
       "\n",
       "    .dataframe tbody tr th {\n",
       "        vertical-align: top;\n",
       "    }\n",
       "\n",
       "    .dataframe thead th {\n",
       "        text-align: right;\n",
       "    }\n",
       "</style>\n",
       "<table border=\"1\" class=\"dataframe\">\n",
       "  <thead>\n",
       "    <tr style=\"text-align: right;\">\n",
       "      <th></th>\n",
       "      <th>session_year</th>\n",
       "      <th>session_month</th>\n",
       "      <th>session_week</th>\n",
       "      <th>uid</th>\n",
       "    </tr>\n",
       "  </thead>\n",
       "  <tbody>\n",
       "    <tr>\n",
       "      <th>0</th>\n",
       "      <td>2017</td>\n",
       "      <td>6</td>\n",
       "      <td>22</td>\n",
       "      <td>2021</td>\n",
       "    </tr>\n",
       "    <tr>\n",
       "      <th>1</th>\n",
       "      <td>2017</td>\n",
       "      <td>6</td>\n",
       "      <td>23</td>\n",
       "      <td>4129</td>\n",
       "    </tr>\n",
       "    <tr>\n",
       "      <th>2</th>\n",
       "      <td>2017</td>\n",
       "      <td>6</td>\n",
       "      <td>24</td>\n",
       "      <td>2812</td>\n",
       "    </tr>\n",
       "    <tr>\n",
       "      <th>3</th>\n",
       "      <td>2017</td>\n",
       "      <td>6</td>\n",
       "      <td>25</td>\n",
       "      <td>2878</td>\n",
       "    </tr>\n",
       "    <tr>\n",
       "      <th>4</th>\n",
       "      <td>2017</td>\n",
       "      <td>6</td>\n",
       "      <td>26</td>\n",
       "      <td>2435</td>\n",
       "    </tr>\n",
       "    <tr>\n",
       "      <th>...</th>\n",
       "      <td>...</td>\n",
       "      <td>...</td>\n",
       "      <td>...</td>\n",
       "      <td>...</td>\n",
       "    </tr>\n",
       "    <tr>\n",
       "      <th>57</th>\n",
       "      <td>2018</td>\n",
       "      <td>5</td>\n",
       "      <td>18</td>\n",
       "      <td>3462</td>\n",
       "    </tr>\n",
       "    <tr>\n",
       "      <th>58</th>\n",
       "      <td>2018</td>\n",
       "      <td>5</td>\n",
       "      <td>19</td>\n",
       "      <td>4128</td>\n",
       "    </tr>\n",
       "    <tr>\n",
       "      <th>59</th>\n",
       "      <td>2018</td>\n",
       "      <td>5</td>\n",
       "      <td>20</td>\n",
       "      <td>5070</td>\n",
       "    </tr>\n",
       "    <tr>\n",
       "      <th>60</th>\n",
       "      <td>2018</td>\n",
       "      <td>5</td>\n",
       "      <td>21</td>\n",
       "      <td>4995</td>\n",
       "    </tr>\n",
       "    <tr>\n",
       "      <th>61</th>\n",
       "      <td>2018</td>\n",
       "      <td>5</td>\n",
       "      <td>22</td>\n",
       "      <td>4892</td>\n",
       "    </tr>\n",
       "  </tbody>\n",
       "</table>\n",
       "<p>62 rows × 4 columns</p>\n",
       "</div>"
      ],
      "text/plain": [
       "    session_year  session_month  session_week   uid\n",
       "0           2017              6            22  2021\n",
       "1           2017              6            23  4129\n",
       "2           2017              6            24  2812\n",
       "3           2017              6            25  2878\n",
       "4           2017              6            26  2435\n",
       "..           ...            ...           ...   ...\n",
       "57          2018              5            18  3462\n",
       "58          2018              5            19  4128\n",
       "59          2018              5            20  5070\n",
       "60          2018              5            21  4995\n",
       "61          2018              5            22  4892\n",
       "\n",
       "[62 rows x 4 columns]"
      ]
     },
     "metadata": {},
     "output_type": "display_data"
    }
   ],
   "source": [
    "usuarios_por_semana =data_visitas.groupby(['session_year',\"session_month\",\"session_week\"])[\"uid\"].nunique().reset_index()\n",
    "display(usuarios_por_semana)"
   ]
  },
  {
   "cell_type": "code",
   "execution_count": 322,
   "metadata": {},
   "outputs": [
    {
     "name": "stdout",
     "output_type": "stream",
     "text": [
      "4911.129032258064\n"
     ]
    }
   ],
   "source": [
    "mean_users_w=usuarios_por_semana[\"uid\"].mean()\n",
    "print(mean_users_w)"
   ]
  },
  {
   "cell_type": "code",
   "execution_count": 323,
   "metadata": {},
   "outputs": [
    {
     "data": {
      "image/png": "[encoded data removed]",
      "text/plain": [
       "<Figure size 864x432 with 1 Axes>"
      ]
     },
     "metadata": {},
     "output_type": "display_data"
    }
   ],
   "source": [
    "# Convertir las columnas de año, mes y semana a una cadena para ordenar correctamente\n",
    "usuarios_por_semana['session_year'] = usuarios_por_semana['session_year'].astype(str)\n",
    "usuarios_por_semana['session_month'] = usuarios_por_semana['session_month'].astype(str)\n",
    "usuarios_por_semana['session_week'] = usuarios_por_semana['session_week'].astype(str)\n",
    "\n",
    "# Crear el gráfico de barras\n",
    "plt.figure(figsize=(12, 6))\n",
    "plt.bar( usuarios_por_semana['session_week'], usuarios_por_semana['uid'],color='skyblue')\n",
    "\n",
    "# Etiquetas de los ejes y título\n",
    "plt.xlabel('Semana')\n",
    "plt.ylabel('Cantidad de Usuarios')\n",
    "plt.title('Usuarios por Semana')\n",
    "\n",
    "# Mostrar el gráfico\n",
    "plt.grid(axis='y')\n",
    "plt.tight_layout()\n",
    "plt.show()"
   ]
  },
  {
   "cell_type": "markdown",
   "metadata": {},
   "source": [
    "En promedio 4911 personas usan la aplicación semanalmente."
   ]
  },
  {
   "cell_type": "code",
   "execution_count": 324,
   "metadata": {},
   "outputs": [
    {
     "data": {
      "text/html": [
       "<div>\n",
       "<style scoped>\n",
       "    .dataframe tbody tr th:only-of-type {\n",
       "        vertical-align: middle;\n",
       "    }\n",
       "\n",
       "    .dataframe tbody tr th {\n",
       "        vertical-align: top;\n",
       "    }\n",
       "\n",
       "    .dataframe thead th {\n",
       "        text-align: right;\n",
       "    }\n",
       "</style>\n",
       "<table border=\"1\" class=\"dataframe\">\n",
       "  <thead>\n",
       "    <tr style=\"text-align: right;\">\n",
       "      <th></th>\n",
       "      <th>session_year</th>\n",
       "      <th>session_month</th>\n",
       "      <th>session_week</th>\n",
       "      <th>session_date</th>\n",
       "      <th>uid</th>\n",
       "    </tr>\n",
       "  </thead>\n",
       "  <tbody>\n",
       "    <tr>\n",
       "      <th>0</th>\n",
       "      <td>2017</td>\n",
       "      <td>6</td>\n",
       "      <td>22</td>\n",
       "      <td>2017-06-01</td>\n",
       "      <td>605</td>\n",
       "    </tr>\n",
       "    <tr>\n",
       "      <th>1</th>\n",
       "      <td>2017</td>\n",
       "      <td>6</td>\n",
       "      <td>22</td>\n",
       "      <td>2017-06-02</td>\n",
       "      <td>608</td>\n",
       "    </tr>\n",
       "    <tr>\n",
       "      <th>2</th>\n",
       "      <td>2017</td>\n",
       "      <td>6</td>\n",
       "      <td>22</td>\n",
       "      <td>2017-06-03</td>\n",
       "      <td>445</td>\n",
       "    </tr>\n",
       "    <tr>\n",
       "      <th>3</th>\n",
       "      <td>2017</td>\n",
       "      <td>6</td>\n",
       "      <td>22</td>\n",
       "      <td>2017-06-04</td>\n",
       "      <td>476</td>\n",
       "    </tr>\n",
       "    <tr>\n",
       "      <th>4</th>\n",
       "      <td>2017</td>\n",
       "      <td>6</td>\n",
       "      <td>23</td>\n",
       "      <td>2017-06-05</td>\n",
       "      <td>820</td>\n",
       "    </tr>\n",
       "    <tr>\n",
       "      <th>...</th>\n",
       "      <td>...</td>\n",
       "      <td>...</td>\n",
       "      <td>...</td>\n",
       "      <td>...</td>\n",
       "      <td>...</td>\n",
       "    </tr>\n",
       "    <tr>\n",
       "      <th>359</th>\n",
       "      <td>2018</td>\n",
       "      <td>5</td>\n",
       "      <td>21</td>\n",
       "      <td>2018-05-27</td>\n",
       "      <td>620</td>\n",
       "    </tr>\n",
       "    <tr>\n",
       "      <th>360</th>\n",
       "      <td>2018</td>\n",
       "      <td>5</td>\n",
       "      <td>22</td>\n",
       "      <td>2018-05-28</td>\n",
       "      <td>1039</td>\n",
       "    </tr>\n",
       "    <tr>\n",
       "      <th>361</th>\n",
       "      <td>2018</td>\n",
       "      <td>5</td>\n",
       "      <td>22</td>\n",
       "      <td>2018-05-29</td>\n",
       "      <td>948</td>\n",
       "    </tr>\n",
       "    <tr>\n",
       "      <th>362</th>\n",
       "      <td>2018</td>\n",
       "      <td>5</td>\n",
       "      <td>22</td>\n",
       "      <td>2018-05-30</td>\n",
       "      <td>1289</td>\n",
       "    </tr>\n",
       "    <tr>\n",
       "      <th>363</th>\n",
       "      <td>2018</td>\n",
       "      <td>5</td>\n",
       "      <td>22</td>\n",
       "      <td>2018-05-31</td>\n",
       "      <td>1997</td>\n",
       "    </tr>\n",
       "  </tbody>\n",
       "</table>\n",
       "<p>364 rows × 5 columns</p>\n",
       "</div>"
      ],
      "text/plain": [
       "     session_year  session_month  session_week session_date   uid\n",
       "0            2017              6            22   2017-06-01   605\n",
       "1            2017              6            22   2017-06-02   608\n",
       "2            2017              6            22   2017-06-03   445\n",
       "3            2017              6            22   2017-06-04   476\n",
       "4            2017              6            23   2017-06-05   820\n",
       "..            ...            ...           ...          ...   ...\n",
       "359          2018              5            21   2018-05-27   620\n",
       "360          2018              5            22   2018-05-28  1039\n",
       "361          2018              5            22   2018-05-29   948\n",
       "362          2018              5            22   2018-05-30  1289\n",
       "363          2018              5            22   2018-05-31  1997\n",
       "\n",
       "[364 rows x 5 columns]"
      ]
     },
     "metadata": {},
     "output_type": "display_data"
    }
   ],
   "source": [
    "usuarios_por_dia=data_visitas.groupby(['session_year',\"session_month\",\"session_week\",\"session_date\"])[\"uid\"].nunique().reset_index()\n",
    "display(usuarios_por_dia)"
   ]
  },
  {
   "cell_type": "code",
   "execution_count": 325,
   "metadata": {},
   "outputs": [
    {
     "data": {
      "image/png": "[encoded data removed]",
      "text/plain": [
       "<Figure size 864x432 with 1 Axes>"
      ]
     },
     "metadata": {},
     "output_type": "display_data"
    }
   ],
   "source": [
    "# Crear el gráfico de líneas\n",
    "plt.figure(figsize=(12, 6))\n",
    "plt.plot(usuarios_por_dia['session_date'], usuarios_por_dia['uid'], marker='o', linestyle='-',color='skyblue')\n",
    "\n",
    "# Etiquetas de los ejes y título\n",
    "plt.xlabel('Fecha')\n",
    "plt.ylabel('Cantidad de Usuarios')\n",
    "plt.title('Usuarios por Día')\n",
    "\n",
    "# Rotar las etiquetas del eje x para mayor claridad\n",
    "plt.xticks(rotation=45)\n",
    "\n",
    "# Mostrar el gráfico\n",
    "plt.grid(True)\n",
    "plt.tight_layout()\n",
    "plt.show()"
   ]
  },
  {
   "cell_type": "code",
   "execution_count": 326,
   "metadata": {},
   "outputs": [
    {
     "name": "stdout",
     "output_type": "stream",
     "text": [
      "907.9917582417582\n"
     ]
    }
   ],
   "source": [
    "mean_users_d=usuarios_por_dia[\"uid\"].mean()\n",
    "print(mean_users_d)"
   ]
  },
  {
   "cell_type": "markdown",
   "metadata": {},
   "source": [
    "En promedio 907 personas usan la aplicación diariamente."
   ]
  },
  {
   "cell_type": "markdown",
   "metadata": {},
   "source": [
    "### ¿Cuántas sesiones hay por día? (Un/a usuario/a puede tener más de una sesión)"
   ]
  },
  {
   "cell_type": "code",
   "execution_count": 327,
   "metadata": {},
   "outputs": [
    {
     "data": {
      "text/html": [
       "<div>\n",
       "<style scoped>\n",
       "    .dataframe tbody tr th:only-of-type {\n",
       "        vertical-align: middle;\n",
       "    }\n",
       "\n",
       "    .dataframe tbody tr th {\n",
       "        vertical-align: top;\n",
       "    }\n",
       "\n",
       "    .dataframe thead th {\n",
       "        text-align: right;\n",
       "    }\n",
       "</style>\n",
       "<table border=\"1\" class=\"dataframe\">\n",
       "  <thead>\n",
       "    <tr style=\"text-align: right;\">\n",
       "      <th></th>\n",
       "      <th>session_year</th>\n",
       "      <th>session_month</th>\n",
       "      <th>session_week</th>\n",
       "      <th>session_date</th>\n",
       "      <th>uid</th>\n",
       "    </tr>\n",
       "  </thead>\n",
       "  <tbody>\n",
       "    <tr>\n",
       "      <th>0</th>\n",
       "      <td>2017</td>\n",
       "      <td>6</td>\n",
       "      <td>22</td>\n",
       "      <td>2017-06-01</td>\n",
       "      <td>664</td>\n",
       "    </tr>\n",
       "    <tr>\n",
       "      <th>1</th>\n",
       "      <td>2017</td>\n",
       "      <td>6</td>\n",
       "      <td>22</td>\n",
       "      <td>2017-06-02</td>\n",
       "      <td>658</td>\n",
       "    </tr>\n",
       "    <tr>\n",
       "      <th>2</th>\n",
       "      <td>2017</td>\n",
       "      <td>6</td>\n",
       "      <td>22</td>\n",
       "      <td>2017-06-03</td>\n",
       "      <td>477</td>\n",
       "    </tr>\n",
       "    <tr>\n",
       "      <th>3</th>\n",
       "      <td>2017</td>\n",
       "      <td>6</td>\n",
       "      <td>22</td>\n",
       "      <td>2017-06-04</td>\n",
       "      <td>510</td>\n",
       "    </tr>\n",
       "    <tr>\n",
       "      <th>4</th>\n",
       "      <td>2017</td>\n",
       "      <td>6</td>\n",
       "      <td>23</td>\n",
       "      <td>2017-06-05</td>\n",
       "      <td>893</td>\n",
       "    </tr>\n",
       "    <tr>\n",
       "      <th>...</th>\n",
       "      <td>...</td>\n",
       "      <td>...</td>\n",
       "      <td>...</td>\n",
       "      <td>...</td>\n",
       "      <td>...</td>\n",
       "    </tr>\n",
       "    <tr>\n",
       "      <th>359</th>\n",
       "      <td>2018</td>\n",
       "      <td>5</td>\n",
       "      <td>21</td>\n",
       "      <td>2018-05-27</td>\n",
       "      <td>672</td>\n",
       "    </tr>\n",
       "    <tr>\n",
       "      <th>360</th>\n",
       "      <td>2018</td>\n",
       "      <td>5</td>\n",
       "      <td>22</td>\n",
       "      <td>2018-05-28</td>\n",
       "      <td>1156</td>\n",
       "    </tr>\n",
       "    <tr>\n",
       "      <th>361</th>\n",
       "      <td>2018</td>\n",
       "      <td>5</td>\n",
       "      <td>22</td>\n",
       "      <td>2018-05-29</td>\n",
       "      <td>1035</td>\n",
       "    </tr>\n",
       "    <tr>\n",
       "      <th>362</th>\n",
       "      <td>2018</td>\n",
       "      <td>5</td>\n",
       "      <td>22</td>\n",
       "      <td>2018-05-30</td>\n",
       "      <td>1410</td>\n",
       "    </tr>\n",
       "    <tr>\n",
       "      <th>363</th>\n",
       "      <td>2018</td>\n",
       "      <td>5</td>\n",
       "      <td>22</td>\n",
       "      <td>2018-05-31</td>\n",
       "      <td>2256</td>\n",
       "    </tr>\n",
       "  </tbody>\n",
       "</table>\n",
       "<p>364 rows × 5 columns</p>\n",
       "</div>"
      ],
      "text/plain": [
       "     session_year  session_month  session_week session_date   uid\n",
       "0            2017              6            22   2017-06-01   664\n",
       "1            2017              6            22   2017-06-02   658\n",
       "2            2017              6            22   2017-06-03   477\n",
       "3            2017              6            22   2017-06-04   510\n",
       "4            2017              6            23   2017-06-05   893\n",
       "..            ...            ...           ...          ...   ...\n",
       "359          2018              5            21   2018-05-27   672\n",
       "360          2018              5            22   2018-05-28  1156\n",
       "361          2018              5            22   2018-05-29  1035\n",
       "362          2018              5            22   2018-05-30  1410\n",
       "363          2018              5            22   2018-05-31  2256\n",
       "\n",
       "[364 rows x 5 columns]"
      ]
     },
     "metadata": {},
     "output_type": "display_data"
    }
   ],
   "source": [
    "sesiones_por_dia=data_visitas.groupby(['session_year',\"session_month\",\"session_week\",\"session_date\"])[\"uid\"].count().reset_index()\n",
    "display(sesiones_por_dia)# agrupando sesiones por día"
   ]
  },
  {
   "cell_type": "code",
   "execution_count": 328,
   "metadata": {},
   "outputs": [
    {
     "data": {
      "image/png": "[encoded data removed]",
      "text/plain": [
       "<Figure size 864x432 with 1 Axes>"
      ]
     },
     "metadata": {},
     "output_type": "display_data"
    }
   ],
   "source": [
    "# Crear el gráfico de líneas\n",
    "plt.figure(figsize=(12, 6))\n",
    "plt.plot(sesiones_por_dia['session_date'], sesiones_por_dia['uid'], marker='o', linestyle='-',color='skyblue')\n",
    "\n",
    "# Etiquetas de los ejes y título\n",
    "plt.xlabel('Fecha')\n",
    "plt.ylabel('Cantidad de Sesiones')\n",
    "plt.title('Sesiones por Día')\n",
    "\n",
    "# Rotar las etiquetas del eje x para mayor claridad\n",
    "plt.xticks(rotation=45)\n",
    "\n",
    "# Mostrar el gráfico\n",
    "plt.grid(True)\n",
    "plt.tight_layout()\n",
    "plt.show()"
   ]
  },
  {
   "cell_type": "code",
   "execution_count": 329,
   "metadata": {},
   "outputs": [
    {
     "data": {
      "text/plain": [
       "987.3626373626373"
      ]
     },
     "execution_count": 329,
     "metadata": {},
     "output_type": "execute_result"
    }
   ],
   "source": [
    "sesiones_por_dia[\"uid\"].mean()"
   ]
  },
  {
   "cell_type": "markdown",
   "metadata": {},
   "source": [
    "Por día hay un promedio de 987 sesiones."
   ]
  },
  {
   "cell_type": "markdown",
   "metadata": {},
   "source": [
    "### ¿Cuál es la duración de cada sesión? La duración media de la sesión ASL"
   ]
  },
  {
   "cell_type": "code",
   "execution_count": 330,
   "metadata": {},
   "outputs": [],
   "source": [
    "data_visitas[\"session_duration_sec\"]= (data_visitas[\"end_ts\"]- data_visitas[\"start_ts\"]).dt.seconds "
   ]
  },
  {
   "cell_type": "code",
   "execution_count": 331,
   "metadata": {},
   "outputs": [
    {
     "data": {
      "text/plain": [
       "0         1080\n",
       "1         1680\n",
       "2            0\n",
       "3         1440\n",
       "4            0\n",
       "          ... \n",
       "359395      19\n",
       "359396      19\n",
       "359397      19\n",
       "359398      19\n",
       "359399      19\n",
       "Name: session_duration_sec, Length: 359400, dtype: int64"
      ]
     },
     "metadata": {},
     "output_type": "display_data"
    }
   ],
   "source": [
    "display(data_visitas[\"session_duration_sec\"])"
   ]
  },
  {
   "cell_type": "code",
   "execution_count": 332,
   "metadata": {},
   "outputs": [
    {
     "name": "stdout",
     "output_type": "stream",
     "text": [
      "643.506488592098\n"
     ]
    }
   ],
   "source": [
    "print(data_visitas['session_duration_sec'].mean())"
   ]
  },
  {
   "cell_type": "code",
   "execution_count": 333,
   "metadata": {},
   "outputs": [
    {
     "data": {
      "text/plain": [
       "(0.0, 20000.0)"
      ]
     },
     "execution_count": 333,
     "metadata": {},
     "output_type": "execute_result"
    },
    {
     "data": {
      "image/png": "[encoded data removed]",
      "text/plain": [
       "<Figure size 720x432 with 1 Axes>"
      ]
     },
     "metadata": {},
     "output_type": "display_data"
    }
   ],
   "source": [
    "plt.figure(figsize=(10, 6))\n",
    "data_visitas['session_duration_sec'].hist(bins=5)\n",
    "plt.xlim(0, 20000)"
   ]
  },
  {
   "cell_type": "code",
   "execution_count": 334,
   "metadata": {},
   "outputs": [
    {
     "name": "stdout",
     "output_type": "stream",
     "text": [
      "0    60\n",
      "dtype: int64\n"
     ]
    }
   ],
   "source": [
    "print(data_visitas['session_duration_sec'].mode())"
   ]
  },
  {
   "cell_type": "markdown",
   "metadata": {},
   "source": [
    "Ya que la distribución no es normal, se considera la moda.\n",
    "La duración de cada sesión es de 60 seg"
   ]
  },
  {
   "cell_type": "markdown",
   "metadata": {},
   "source": [
    "### ¿Con qué frecuencia los usuarios y las usuarias regresan ? sticky factor (factor de adherencia)"
   ]
  },
  {
   "cell_type": "markdown",
   "metadata": {},
   "source": [
    "sticky factor = DAU/WAU o sticky factor = DAU/MAU"
   ]
  },
  {
   "cell_type": "code",
   "execution_count": 335,
   "metadata": {},
   "outputs": [
    {
     "name": "stdout",
     "output_type": "stream",
     "text": [
      "0.1848845249794378\n"
     ]
    }
   ],
   "source": [
    "sticky_factor = mean_users_d / mean_users_w #DAU/WAU\n",
    "print(sticky_factor)"
   ]
  },
  {
   "cell_type": "code",
   "execution_count": 336,
   "metadata": {},
   "outputs": [
    {
     "name": "stdout",
     "output_type": "stream",
     "text": [
      "0.03908969652437603\n"
     ]
    }
   ],
   "source": [
    "sticky_factor = mean_users_d / mean_users #DAU/MAU\n",
    "print(sticky_factor)"
   ]
  },
  {
   "cell_type": "markdown",
   "metadata": {},
   "source": [
    "Resulta una proporción menor a 1 en ambos caso, esto indica una menor retención y variabilidad en los patrones de uso entre días y semanas, y días y mes"
   ]
  },
  {
   "cell_type": "markdown",
   "metadata": {},
   "source": [
    "## Ventas:"
   ]
  },
  {
   "cell_type": "markdown",
   "metadata": {},
   "source": [
    "### ¿Cuándo la gente empieza a comprar? (En el análisis de KPI, generalmente nos interesa saber el tiempo que transcurre entre el registro y la conversión, es decir, cuando el/la usuario/a se convierte en cliente. Por ejemplo, si el registro y la primera compra ocurren el mismo día, el/la usuario/a podría caer en la categoría Conversion 0d. Si la primera compra ocurre al día siguiente, será Conversion 1d.  Puedes usar cualquier enfoque que te permita comparar las conversiones de diferentes cohortes para que puedas determinar qué cohorte o canal de marketing es más efectivo).\n"
   ]
  },
  {
   "cell_type": "markdown",
   "metadata": {},
   "source": [
    "En este caso calcularemos cuantos días pasa desde el primer inicio de sesión hasta la primera compra del cliente, y los cohortes serán que anuncio fue el que influyó en la compra."
   ]
  },
  {
   "cell_type": "code",
   "execution_count": 337,
   "metadata": {},
   "outputs": [],
   "source": [
    "#Vamos a agrupar los datos por la columna 'uid' utilizando el método groupby().\n",
    "first_session= data_visitas.groupby('uid')[ 'start_ts' ].min()\n",
    "\n",
    "#cambiaremos el nombre del objeto Series\n",
    "first_session.name = 'first_session_date' "
   ]
  },
  {
   "cell_type": "code",
   "execution_count": 338,
   "metadata": {},
   "outputs": [
    {
     "name": "stdout",
     "output_type": "stream",
     "text": [
      "                uid              buy_ts  first_session_date\n",
      "0   313578113262317 2018-01-03 21:51:00 2017-09-18 22:49:00\n",
      "1  1575281904278712 2017-06-03 10:13:00 2017-06-03 10:13:00\n",
      "2  2429014661409475 2017-10-11 18:33:00 2017-10-11 17:14:00\n",
      "3  2464366381792757 2018-01-28 15:54:00 2018-01-27 20:10:00\n",
      "4  2551852515556206 2017-11-24 10:14:00 2017-11-24 10:14:00\n",
      "5  3077748354309989 2018-03-03 12:33:00 2018-03-03 12:08:00\n",
      "6  3605148382144603 2017-09-21 20:56:00 2017-08-15 21:54:00\n",
      "7  3753586865891862 2018-03-03 13:50:00 2018-03-03 13:47:00\n",
      "8  4808417689019433 2018-01-09 23:32:00 2018-01-09 23:10:00\n",
      "9  4992223027560440 2018-04-04 13:54:00 2018-04-04 13:54:00\n"
     ]
    }
   ],
   "source": [
    "#Vamos a agrupar los datos por la columna 'uid' utilizando el método groupby().\n",
    "first_buy = data_ordenes.groupby('uid')[ 'buy_ts' ].min().reset_index()\n",
    "\n",
    "#cambiaremos el nombre del objeto Series\n",
    "first_buy.name = 'first_buy_date' \n",
    "\n",
    "#Utilizando el método join(), uniremos el DataFrame  con la Series \n",
    "data_conversion = first_buy.join(first_session,on=\"uid\")\n",
    "\n",
    "print(data_conversion.head(10))"
   ]
  },
  {
   "cell_type": "code",
   "execution_count": 339,
   "metadata": {},
   "outputs": [
    {
     "name": "stdout",
     "output_type": "stream",
     "text": [
      "                        uid              buy_ts  first_session_date  \\\n",
      "20437  10329302124590727494 2017-06-01 00:10:00 2017-06-01 00:09:00   \n",
      "23018  11627257723692907447 2017-06-01 00:25:00 2017-06-01 00:14:00   \n",
      "35477  17903680561304213844 2017-06-01 00:27:00 2017-06-01 00:25:00   \n",
      "31908  16109239769442553005 2017-06-01 00:29:00 2017-06-01 00:14:00   \n",
      "28100  14200605875248379450 2017-06-01 07:58:00 2017-06-01 07:31:00   \n",
      "...                     ...                 ...                 ...   \n",
      "24312  12296626599487328624 2018-05-31 23:50:00 2018-05-31 09:11:00   \n",
      "22509  11369640365507475976 2018-05-31 23:50:00 2018-05-31 23:05:00   \n",
      "3534    1786462140797698849 2018-05-31 23:54:00 2018-05-31 23:52:00   \n",
      "7919    3993697860786194247 2018-05-31 23:56:00 2017-10-23 12:32:00   \n",
      "168       83872787173869366 2018-06-01 00:02:00 2018-05-31 23:59:00   \n",
      "\n",
      "       conversion  \n",
      "20437           0  \n",
      "23018           0  \n",
      "35477           0  \n",
      "31908           0  \n",
      "28100           0  \n",
      "...           ...  \n",
      "24312           0  \n",
      "22509           0  \n",
      "3534            0  \n",
      "7919          220  \n",
      "168             0  \n",
      "\n",
      "[36523 rows x 4 columns]\n"
     ]
    }
   ],
   "source": [
    "data_conversion[\"conversion\"]=(data_conversion[\"buy_ts\"] - data_conversion[\"first_session_date\"]).dt.days\n",
    "data_conversion=data_conversion.sort_values(by=\"buy_ts\")\n",
    "print(data_conversion)"
   ]
  },
  {
   "cell_type": "code",
   "execution_count": 340,
   "metadata": {},
   "outputs": [
    {
     "data": {
      "text/plain": [
       "<AxesSubplot:>"
      ]
     },
     "execution_count": 340,
     "metadata": {},
     "output_type": "execute_result"
    },
    {
     "data": {
      "image/png": "[encoded data removed]",
      "text/plain": [
       "<Figure size 432x288 with 1 Axes>"
      ]
     },
     "metadata": {},
     "output_type": "display_data"
    }
   ],
   "source": [
    "data_conversion[\"conversion\"].hist()"
   ]
  },
  {
   "cell_type": "code",
   "execution_count": 341,
   "metadata": {},
   "outputs": [
    {
     "name": "stdout",
     "output_type": "stream",
     "text": [
      "16.7298688497659\n"
     ]
    }
   ],
   "source": [
    "print(data_conversion[\"conversion\"].mean())\n"
   ]
  },
  {
   "cell_type": "code",
   "execution_count": 342,
   "metadata": {},
   "outputs": [
    {
     "name": "stdout",
     "output_type": "stream",
     "text": [
      "0    0\n",
      "dtype: int64\n"
     ]
    }
   ],
   "source": [
    "print(data_conversion[\"conversion\"].mode())"
   ]
  },
  {
   "cell_type": "markdown",
   "metadata": {},
   "source": [
    "Hay una cantidad representativa que tardan 0 dìas para realizar la primera compra."
   ]
  },
  {
   "cell_type": "code",
   "execution_count": 343,
   "metadata": {},
   "outputs": [],
   "source": [
    "data_source=data_visitas.groupby(\"uid\")[\"source_id\"].nunique().reset_index()#agrupando por usuario y cantidad de fuentes de anuncio"
   ]
  },
  {
   "cell_type": "code",
   "execution_count": 344,
   "metadata": {},
   "outputs": [
    {
     "name": "stdout",
     "output_type": "stream",
     "text": [
      "                         uid  source_id\n",
      "0             11863502262781          1\n",
      "1             49537067089222          1\n",
      "2            297729379853735          1\n",
      "3            313578113262317          1\n",
      "4            325320750514679          1\n",
      "...                      ...        ...\n",
      "228164  18446403737806311543          1\n",
      "228165  18446424184725333426          1\n",
      "228166  18446556406699109058          1\n",
      "228167  18446621818809592527          1\n",
      "228168  18446676030785672386          1\n",
      "\n",
      "[228169 rows x 2 columns]\n"
     ]
    },
    {
     "data": {
      "text/plain": [
       "7"
      ]
     },
     "execution_count": 344,
     "metadata": {},
     "output_type": "execute_result"
    }
   ],
   "source": [
    "print(data_source) \n",
    "data_source[\"source_id\"].max() # cantidad de source_id relacionados a uid"
   ]
  },
  {
   "cell_type": "markdown",
   "metadata": {},
   "source": [
    "Se Observa que hay en algunos casos varios source_id para un solo uid, para este primer análisis se considera el primer anuncio que se vió."
   ]
  },
  {
   "cell_type": "code",
   "execution_count": 345,
   "metadata": {},
   "outputs": [
    {
     "data": {
      "text/plain": [
       "source_id\n",
       "1     14.505477\n",
       "2     21.683090\n",
       "3     16.053403\n",
       "4     16.643592\n",
       "5     13.182190\n",
       "7      0.000000\n",
       "9     32.168198\n",
       "10    13.809831\n",
       "Name: conversion, dtype: float64"
      ]
     },
     "execution_count": 345,
     "metadata": {},
     "output_type": "execute_result"
    }
   ],
   "source": [
    "merged_data = data_conversion.merge(data_visitas.drop_duplicates(subset=['uid']), on='uid', how='left')\n",
    "merged_data.groupby(\"source_id\")[\"conversion\"].mean()"
   ]
  },
  {
   "cell_type": "markdown",
   "metadata": {},
   "source": [
    "Según lo observado la fuente de anuncios más efectiva es la número 7, ya que tardan en promedio 0 dìas para realizar la primera compra luego del primer inicio de sesión. Sin embargo no se está tomando en cuenta la cantidad de usuarios que realizan la compra.\n",
    "Ahora se considerará los source_id visto antes de la compra."
   ]
  },
  {
   "cell_type": "code",
   "execution_count": 346,
   "metadata": {},
   "outputs": [],
   "source": [
    "#Agrupando y calculando cuantos días pasan hasta la primera compra desde cada sesión de usuario.\n",
    "\n",
    "merged_data1 =data_visitas[[\"source_id\",\"start_ts\",\"uid\"]].merge(data_conversion.drop_duplicates(subset=['uid']), on='uid', how='left')"
   ]
  },
  {
   "cell_type": "code",
   "execution_count": 347,
   "metadata": {},
   "outputs": [
    {
     "name": "stderr",
     "output_type": "stream",
     "text": [
      "/tmp/ipykernel_28/4152791690.py:6: SettingWithCopyWarning: \n",
      "A value is trying to be set on a copy of a slice from a DataFrame.\n",
      "Try using .loc[row_indexer,col_indexer] = value instead\n",
      "\n",
      "See the caveats in the documentation: https://pandas.pydata.org/pandas-docs/stable/user_guide/indexing.html#returning-a-view-versus-a-copy\n",
      "  sesiones_antes_compra['dias_hasta_compra'] = (sesiones_antes_compra['buy_ts'] - sesiones_antes_compra['start_ts']).dt.days\n",
      "/tmp/ipykernel_28/4152791690.py:7: SettingWithCopyWarning: \n",
      "A value is trying to be set on a copy of a slice from a DataFrame.\n",
      "Try using .loc[row_indexer,col_indexer] = value instead\n",
      "\n",
      "See the caveats in the documentation: https://pandas.pydata.org/pandas-docs/stable/user_guide/indexing.html#returning-a-view-versus-a-copy\n",
      "  sesiones_antes_compra['dia_compra']=merged_data1['buy_ts']\n"
     ]
    },
    {
     "data": {
      "text/html": [
       "<div>\n",
       "<style scoped>\n",
       "    .dataframe tbody tr th:only-of-type {\n",
       "        vertical-align: middle;\n",
       "    }\n",
       "\n",
       "    .dataframe tbody tr th {\n",
       "        vertical-align: top;\n",
       "    }\n",
       "\n",
       "    .dataframe thead th {\n",
       "        text-align: right;\n",
       "    }\n",
       "</style>\n",
       "<table border=\"1\" class=\"dataframe\">\n",
       "  <thead>\n",
       "    <tr style=\"text-align: right;\">\n",
       "      <th>n_sesion</th>\n",
       "      <th>1</th>\n",
       "      <th>2</th>\n",
       "      <th>3</th>\n",
       "      <th>4</th>\n",
       "      <th>5</th>\n",
       "      <th>6</th>\n",
       "      <th>7</th>\n",
       "      <th>8</th>\n",
       "      <th>9</th>\n",
       "      <th>10</th>\n",
       "      <th>...</th>\n",
       "      <th>146</th>\n",
       "      <th>147</th>\n",
       "      <th>148</th>\n",
       "      <th>149</th>\n",
       "      <th>150</th>\n",
       "      <th>151</th>\n",
       "      <th>152</th>\n",
       "      <th>153</th>\n",
       "      <th>154</th>\n",
       "      <th>155</th>\n",
       "    </tr>\n",
       "    <tr>\n",
       "      <th>source_id</th>\n",
       "      <th></th>\n",
       "      <th></th>\n",
       "      <th></th>\n",
       "      <th></th>\n",
       "      <th></th>\n",
       "      <th></th>\n",
       "      <th></th>\n",
       "      <th></th>\n",
       "      <th></th>\n",
       "      <th></th>\n",
       "      <th></th>\n",
       "      <th></th>\n",
       "      <th></th>\n",
       "      <th></th>\n",
       "      <th></th>\n",
       "      <th></th>\n",
       "      <th></th>\n",
       "      <th></th>\n",
       "      <th></th>\n",
       "      <th></th>\n",
       "      <th></th>\n",
       "    </tr>\n",
       "  </thead>\n",
       "  <tbody>\n",
       "    <tr>\n",
       "      <th>1</th>\n",
       "      <td>11.715473</td>\n",
       "      <td>12.667023</td>\n",
       "      <td>16.269231</td>\n",
       "      <td>22.052219</td>\n",
       "      <td>31.769953</td>\n",
       "      <td>27.690141</td>\n",
       "      <td>30.683673</td>\n",
       "      <td>38.011905</td>\n",
       "      <td>50.600000</td>\n",
       "      <td>47.682927</td>\n",
       "      <td>...</td>\n",
       "      <td>NaN</td>\n",
       "      <td>NaN</td>\n",
       "      <td>NaN</td>\n",
       "      <td>NaN</td>\n",
       "      <td>NaN</td>\n",
       "      <td>NaN</td>\n",
       "      <td>NaN</td>\n",
       "      <td>NaN</td>\n",
       "      <td>NaN</td>\n",
       "      <td>NaN</td>\n",
       "    </tr>\n",
       "    <tr>\n",
       "      <th>2</th>\n",
       "      <td>22.339458</td>\n",
       "      <td>24.714748</td>\n",
       "      <td>28.220028</td>\n",
       "      <td>32.284457</td>\n",
       "      <td>30.785714</td>\n",
       "      <td>43.022388</td>\n",
       "      <td>40.161017</td>\n",
       "      <td>40.031579</td>\n",
       "      <td>39.500000</td>\n",
       "      <td>41.692308</td>\n",
       "      <td>...</td>\n",
       "      <td>NaN</td>\n",
       "      <td>NaN</td>\n",
       "      <td>NaN</td>\n",
       "      <td>NaN</td>\n",
       "      <td>NaN</td>\n",
       "      <td>NaN</td>\n",
       "      <td>NaN</td>\n",
       "      <td>NaN</td>\n",
       "      <td>NaN</td>\n",
       "      <td>NaN</td>\n",
       "    </tr>\n",
       "    <tr>\n",
       "      <th>3</th>\n",
       "      <td>18.376965</td>\n",
       "      <td>19.683241</td>\n",
       "      <td>25.886414</td>\n",
       "      <td>27.562162</td>\n",
       "      <td>40.348837</td>\n",
       "      <td>32.840580</td>\n",
       "      <td>31.000000</td>\n",
       "      <td>49.478261</td>\n",
       "      <td>43.411765</td>\n",
       "      <td>92.428571</td>\n",
       "      <td>...</td>\n",
       "      <td>NaN</td>\n",
       "      <td>NaN</td>\n",
       "      <td>NaN</td>\n",
       "      <td>NaN</td>\n",
       "      <td>NaN</td>\n",
       "      <td>NaN</td>\n",
       "      <td>NaN</td>\n",
       "      <td>NaN</td>\n",
       "      <td>NaN</td>\n",
       "      <td>NaN</td>\n",
       "    </tr>\n",
       "    <tr>\n",
       "      <th>4</th>\n",
       "      <td>17.157362</td>\n",
       "      <td>19.125717</td>\n",
       "      <td>22.911924</td>\n",
       "      <td>26.948276</td>\n",
       "      <td>26.921348</td>\n",
       "      <td>32.263158</td>\n",
       "      <td>34.000000</td>\n",
       "      <td>44.136364</td>\n",
       "      <td>34.756757</td>\n",
       "      <td>39.750000</td>\n",
       "      <td>...</td>\n",
       "      <td>NaN</td>\n",
       "      <td>NaN</td>\n",
       "      <td>NaN</td>\n",
       "      <td>NaN</td>\n",
       "      <td>NaN</td>\n",
       "      <td>NaN</td>\n",
       "      <td>NaN</td>\n",
       "      <td>NaN</td>\n",
       "      <td>NaN</td>\n",
       "      <td>NaN</td>\n",
       "    </tr>\n",
       "    <tr>\n",
       "      <th>5</th>\n",
       "      <td>15.080638</td>\n",
       "      <td>12.139635</td>\n",
       "      <td>17.323636</td>\n",
       "      <td>22.938776</td>\n",
       "      <td>31.000000</td>\n",
       "      <td>39.152542</td>\n",
       "      <td>44.818182</td>\n",
       "      <td>19.428571</td>\n",
       "      <td>33.357143</td>\n",
       "      <td>23.083333</td>\n",
       "      <td>...</td>\n",
       "      <td>NaN</td>\n",
       "      <td>NaN</td>\n",
       "      <td>NaN</td>\n",
       "      <td>NaN</td>\n",
       "      <td>NaN</td>\n",
       "      <td>NaN</td>\n",
       "      <td>NaN</td>\n",
       "      <td>NaN</td>\n",
       "      <td>NaN</td>\n",
       "      <td>NaN</td>\n",
       "    </tr>\n",
       "    <tr>\n",
       "      <th>7</th>\n",
       "      <td>0.000000</td>\n",
       "      <td>NaN</td>\n",
       "      <td>NaN</td>\n",
       "      <td>NaN</td>\n",
       "      <td>NaN</td>\n",
       "      <td>NaN</td>\n",
       "      <td>NaN</td>\n",
       "      <td>NaN</td>\n",
       "      <td>NaN</td>\n",
       "      <td>NaN</td>\n",
       "      <td>...</td>\n",
       "      <td>NaN</td>\n",
       "      <td>NaN</td>\n",
       "      <td>NaN</td>\n",
       "      <td>NaN</td>\n",
       "      <td>NaN</td>\n",
       "      <td>NaN</td>\n",
       "      <td>NaN</td>\n",
       "      <td>NaN</td>\n",
       "      <td>NaN</td>\n",
       "      <td>NaN</td>\n",
       "    </tr>\n",
       "    <tr>\n",
       "      <th>9</th>\n",
       "      <td>46.087870</td>\n",
       "      <td>38.571429</td>\n",
       "      <td>39.724138</td>\n",
       "      <td>54.402299</td>\n",
       "      <td>40.723404</td>\n",
       "      <td>40.178571</td>\n",
       "      <td>27.666667</td>\n",
       "      <td>8.888889</td>\n",
       "      <td>12.500000</td>\n",
       "      <td>29.142857</td>\n",
       "      <td>...</td>\n",
       "      <td>NaN</td>\n",
       "      <td>NaN</td>\n",
       "      <td>NaN</td>\n",
       "      <td>NaN</td>\n",
       "      <td>NaN</td>\n",
       "      <td>NaN</td>\n",
       "      <td>NaN</td>\n",
       "      <td>NaN</td>\n",
       "      <td>NaN</td>\n",
       "      <td>NaN</td>\n",
       "    </tr>\n",
       "    <tr>\n",
       "      <th>10</th>\n",
       "      <td>12.647865</td>\n",
       "      <td>16.340909</td>\n",
       "      <td>27.560976</td>\n",
       "      <td>35.066667</td>\n",
       "      <td>33.888889</td>\n",
       "      <td>34.222222</td>\n",
       "      <td>83.250000</td>\n",
       "      <td>45.200000</td>\n",
       "      <td>46.166667</td>\n",
       "      <td>57.250000</td>\n",
       "      <td>...</td>\n",
       "      <td>78.0</td>\n",
       "      <td>78.0</td>\n",
       "      <td>78.0</td>\n",
       "      <td>78.0</td>\n",
       "      <td>77.0</td>\n",
       "      <td>77.0</td>\n",
       "      <td>77.0</td>\n",
       "      <td>77.0</td>\n",
       "      <td>76.0</td>\n",
       "      <td>76.0</td>\n",
       "    </tr>\n",
       "  </tbody>\n",
       "</table>\n",
       "<p>8 rows × 155 columns</p>\n",
       "</div>"
      ],
      "text/plain": [
       "n_sesion         1          2          3          4          5          6    \\\n",
       "source_id                                                                     \n",
       "1          11.715473  12.667023  16.269231  22.052219  31.769953  27.690141   \n",
       "2          22.339458  24.714748  28.220028  32.284457  30.785714  43.022388   \n",
       "3          18.376965  19.683241  25.886414  27.562162  40.348837  32.840580   \n",
       "4          17.157362  19.125717  22.911924  26.948276  26.921348  32.263158   \n",
       "5          15.080638  12.139635  17.323636  22.938776  31.000000  39.152542   \n",
       "7           0.000000        NaN        NaN        NaN        NaN        NaN   \n",
       "9          46.087870  38.571429  39.724138  54.402299  40.723404  40.178571   \n",
       "10         12.647865  16.340909  27.560976  35.066667  33.888889  34.222222   \n",
       "\n",
       "n_sesion         7          8          9          10   ...   146   147   148  \\\n",
       "source_id                                              ...                     \n",
       "1          30.683673  38.011905  50.600000  47.682927  ...   NaN   NaN   NaN   \n",
       "2          40.161017  40.031579  39.500000  41.692308  ...   NaN   NaN   NaN   \n",
       "3          31.000000  49.478261  43.411765  92.428571  ...   NaN   NaN   NaN   \n",
       "4          34.000000  44.136364  34.756757  39.750000  ...   NaN   NaN   NaN   \n",
       "5          44.818182  19.428571  33.357143  23.083333  ...   NaN   NaN   NaN   \n",
       "7                NaN        NaN        NaN        NaN  ...   NaN   NaN   NaN   \n",
       "9          27.666667   8.888889  12.500000  29.142857  ...   NaN   NaN   NaN   \n",
       "10         83.250000  45.200000  46.166667  57.250000  ...  78.0  78.0  78.0   \n",
       "\n",
       "n_sesion    149   150   151   152   153   154   155  \n",
       "source_id                                            \n",
       "1           NaN   NaN   NaN   NaN   NaN   NaN   NaN  \n",
       "2           NaN   NaN   NaN   NaN   NaN   NaN   NaN  \n",
       "3           NaN   NaN   NaN   NaN   NaN   NaN   NaN  \n",
       "4           NaN   NaN   NaN   NaN   NaN   NaN   NaN  \n",
       "5           NaN   NaN   NaN   NaN   NaN   NaN   NaN  \n",
       "7           NaN   NaN   NaN   NaN   NaN   NaN   NaN  \n",
       "9           NaN   NaN   NaN   NaN   NaN   NaN   NaN  \n",
       "10         78.0  77.0  77.0  77.0  77.0  76.0  76.0  \n",
       "\n",
       "[8 rows x 155 columns]"
      ]
     },
     "metadata": {},
     "output_type": "display_data"
    }
   ],
   "source": [
    "# Crear DataFrame con la información de sesiones antes de la primera compra\n",
    "merged_data1 = merged_data1.dropna(subset=['buy_ts'])\n",
    "\n",
    "# Filtrar sesiones antes de la compra y calcular días hasta la compra\n",
    "sesiones_antes_compra = merged_data1[merged_data1['start_ts'] < merged_data1['buy_ts']]\n",
    "sesiones_antes_compra['dias_hasta_compra'] = (sesiones_antes_compra['buy_ts'] - sesiones_antes_compra['start_ts']).dt.days\n",
    "sesiones_antes_compra['dia_compra']=merged_data1['buy_ts']\n",
    "#  Calcular el número de sesión por usuario\n",
    "\n",
    "#primero ordenamos el datframe\n",
    "\n",
    "sesiones_antes_compra = sesiones_antes_compra.sort_values(by=['uid', 'start_ts'])\n",
    "\n",
    "sesiones_antes_compra[\"n_sesion\"] = sesiones_antes_compra.groupby('uid').cumcount() + 1\n",
    "\n",
    "#  Crear matriz utilizando pivot_table\n",
    "mtriz_cohortes = sesiones_antes_compra.pivot_table(index='source_id', columns=\"n_sesion\", values=\"dias_hasta_compra\", aggfunc='mean')\n",
    "\n",
    "# Imprimir la matriz\n",
    "display(mtriz_cohortes)"
   ]
  },
  {
   "cell_type": "markdown",
   "metadata": {},
   "source": [
    "En la matriz se observa que hay usuarios que han tenido  hasta 155 sesiones antes de realizar su primera compra,\n",
    "Todos los usuarios que vieron en su primera sesión el anuncio 7, compró el mismo día.\n"
   ]
  },
  {
   "cell_type": "markdown",
   "metadata": {},
   "source": [
    "Se visualiza solo la ultima sesión antes de la compra "
   ]
  },
  {
   "cell_type": "code",
   "execution_count": 348,
   "metadata": {},
   "outputs": [
    {
     "name": "stdout",
     "output_type": "stream",
     "text": [
      "source_id\n",
      "1      2.323812\n",
      "2      5.702030\n",
      "3      6.052607\n",
      "4      5.971624\n",
      "5      5.179410\n",
      "7      0.000000\n",
      "9     14.425365\n",
      "10     4.793597\n",
      "Name: dias_hasta_compra, dtype: float64\n"
     ]
    }
   ],
   "source": [
    "\n",
    "ultima_sesion_por_usuario = sesiones_antes_compra.groupby('uid').agg({'n_sesion': 'max', \n",
    "                                                                   'dias_hasta_compra': 'last', \n",
    "                                                                   'source_id': 'last', \n",
    "                                                                   'dia_compra': 'last'}).reset_index()\n",
    "ultima_sesion_por_usuario[\"month\"]=ultima_sesion_por_usuario[\"dia_compra\"].dt.month\n",
    "mtriz_cohortes=ultima_sesion_por_usuario.groupby(\"source_id\")[\"dias_hasta_compra\"].mean()  # agrupando por source_id\n",
    "print(mtriz_cohortes)"
   ]
  },
  {
   "cell_type": "markdown",
   "metadata": {},
   "source": [
    "Los usuarios que vieron el anuncio 1 antes de su primera compra, lo realizo en 1.91 días en promedio."
   ]
  },
  {
   "cell_type": "markdown",
   "metadata": {},
   "source": [
    "### ¿Cuántos pedidos hacen durante un período de tiempo dado?\n"
   ]
  },
  {
   "cell_type": "code",
   "execution_count": 349,
   "metadata": {},
   "outputs": [
    {
     "data": {
      "text/plain": [
       "1.2290645798288597"
      ]
     },
     "execution_count": 349,
     "metadata": {},
     "output_type": "execute_result"
    }
   ],
   "source": [
    "# agrupando tabla ordenes por mes y usuarios \n",
    "data_ordenes[\"year\"]=data_ordenes[ 'buy_ts' ].dt.year\n",
    "data_ordenes[\"month\"]=data_ordenes[ 'buy_ts' ].dt.month\n",
    "data_ordenes.groupby([\"year\",\"month\",'uid'])[ 'buy_ts' ].count().reset_index()[\"buy_ts\"].mean() # calculando número de ordenes por usuario al mes\n"
   ]
  },
  {
   "cell_type": "markdown",
   "metadata": {},
   "source": [
    "En promedio un usuario realiza 1.22 pedidos al mes."
   ]
  },
  {
   "cell_type": "markdown",
   "metadata": {},
   "source": [
    "¿Cuál es el tamaño promedio de compra?\n"
   ]
  },
  {
   "cell_type": "code",
   "execution_count": 350,
   "metadata": {},
   "outputs": [
    {
     "data": {
      "text/plain": [
       "4.999646930477041"
      ]
     },
     "execution_count": 350,
     "metadata": {},
     "output_type": "execute_result"
    }
   ],
   "source": [
    "data_ordenes[\"revenue\"].mean() # promedio de valor de cada orden"
   ]
  },
  {
   "cell_type": "markdown",
   "metadata": {},
   "source": [
    "¿Cuánto dinero traen? (LTV)"
   ]
  },
  {
   "cell_type": "markdown",
   "metadata": {},
   "source": [
    "Se realiza un análisis inicial considerando cohortes agrupados por el primer mes de compra"
   ]
  },
  {
   "cell_type": "code",
   "execution_count": 351,
   "metadata": {},
   "outputs": [
    {
     "name": "stdout",
     "output_type": "stream",
     "text": [
      "    first_order_month  n_buyers  month  revenue\n",
      "31                  3      3856     11   794.34\n",
      "28                  3      3856      8   195.99\n",
      "32                  3      3856     12   557.87\n",
      "7                   1      3898      8   907.50\n",
      "4                   1      3898      5  2676.91\n"
     ]
    }
   ],
   "source": [
    "#mes de la primera compra de cada cliente:\n",
    "\n",
    "first_orders = data_ordenes.groupby('uid').agg({'month': 'min'}).reset_index() \n",
    "first_orders.columns = ['uid', 'first_order_month'] \n",
    "\n",
    "\n",
    "#número de nuevos clientes (n_buyers) para cada mes:\n",
    "\n",
    "\n",
    "cohort_sizes = first_orders.groupby('first_order_month').agg({'uid': 'nunique'}).reset_index() \n",
    "cohort_sizes.columns = ['first_order_month', 'n_buyers'] \n",
    "cohort_sizes.head()\n",
    "\n",
    "\n",
    "#cohortes:\n",
    "\n",
    "data_ordenes= pd.merge(data_ordenes,first_orders, on='uid') \n",
    "\n",
    "#agrupar la tabla de pedidos por mes de la primera compra y mes de la compra y totalizar los ingresos.\n",
    "\n",
    "cohorts = data_ordenes.groupby(['first_order_month','month']).agg({'revenue': 'sum'}).reset_index() \n",
    "\n",
    "report = pd.merge(cohort_sizes, cohorts, on='first_order_month') \n",
    "print(report.sample(5))\n"
   ]
  },
  {
   "cell_type": "code",
   "execution_count": 352,
   "metadata": {},
   "outputs": [
    {
     "data": {
      "text/html": [
       "<div>\n",
       "<style scoped>\n",
       "    .dataframe tbody tr th:only-of-type {\n",
       "        vertical-align: middle;\n",
       "    }\n",
       "\n",
       "    .dataframe tbody tr th {\n",
       "        vertical-align: top;\n",
       "    }\n",
       "\n",
       "    .dataframe thead th {\n",
       "        text-align: right;\n",
       "    }\n",
       "</style>\n",
       "<table border=\"1\" class=\"dataframe\">\n",
       "  <thead>\n",
       "    <tr style=\"text-align: right;\">\n",
       "      <th>age</th>\n",
       "      <th>0</th>\n",
       "      <th>1</th>\n",
       "      <th>2</th>\n",
       "      <th>3</th>\n",
       "      <th>4</th>\n",
       "      <th>5</th>\n",
       "      <th>6</th>\n",
       "      <th>7</th>\n",
       "      <th>8</th>\n",
       "      <th>9</th>\n",
       "      <th>10</th>\n",
       "      <th>11</th>\n",
       "    </tr>\n",
       "    <tr>\n",
       "      <th>first_order_month</th>\n",
       "      <th></th>\n",
       "      <th></th>\n",
       "      <th></th>\n",
       "      <th></th>\n",
       "      <th></th>\n",
       "      <th></th>\n",
       "      <th></th>\n",
       "      <th></th>\n",
       "      <th></th>\n",
       "      <th></th>\n",
       "      <th></th>\n",
       "      <th></th>\n",
       "    </tr>\n",
       "  </thead>\n",
       "  <tbody>\n",
       "    <tr>\n",
       "      <th>1</th>\n",
       "      <td>5.0</td>\n",
       "      <td>7.0</td>\n",
       "      <td>9.0</td>\n",
       "      <td>10.0</td>\n",
       "      <td>11.0</td>\n",
       "      <td>11.0</td>\n",
       "      <td>11.0</td>\n",
       "      <td>11.0</td>\n",
       "      <td>12.0</td>\n",
       "      <td>13.0</td>\n",
       "      <td>14.0</td>\n",
       "      <td>18.0</td>\n",
       "    </tr>\n",
       "    <tr>\n",
       "      <th>2</th>\n",
       "      <td>4.0</td>\n",
       "      <td>5.0</td>\n",
       "      <td>5.0</td>\n",
       "      <td>5.0</td>\n",
       "      <td>5.0</td>\n",
       "      <td>5.0</td>\n",
       "      <td>5.0</td>\n",
       "      <td>5.0</td>\n",
       "      <td>5.0</td>\n",
       "      <td>5.0</td>\n",
       "      <td>5.0</td>\n",
       "      <td></td>\n",
       "    </tr>\n",
       "    <tr>\n",
       "      <th>3</th>\n",
       "      <td>5.0</td>\n",
       "      <td>5.0</td>\n",
       "      <td>5.0</td>\n",
       "      <td>5.0</td>\n",
       "      <td>5.0</td>\n",
       "      <td>5.0</td>\n",
       "      <td>5.0</td>\n",
       "      <td>5.0</td>\n",
       "      <td>5.0</td>\n",
       "      <td>5.0</td>\n",
       "      <td></td>\n",
       "      <td></td>\n",
       "    </tr>\n",
       "    <tr>\n",
       "      <th>4</th>\n",
       "      <td>5.0</td>\n",
       "      <td>6.0</td>\n",
       "      <td>6.0</td>\n",
       "      <td>6.0</td>\n",
       "      <td>6.0</td>\n",
       "      <td>6.0</td>\n",
       "      <td>6.0</td>\n",
       "      <td>6.0</td>\n",
       "      <td>6.0</td>\n",
       "      <td></td>\n",
       "      <td></td>\n",
       "      <td></td>\n",
       "    </tr>\n",
       "    <tr>\n",
       "      <th>5</th>\n",
       "      <td>5.0</td>\n",
       "      <td>5.0</td>\n",
       "      <td>5.0</td>\n",
       "      <td>5.0</td>\n",
       "      <td>5.0</td>\n",
       "      <td>5.0</td>\n",
       "      <td>5.0</td>\n",
       "      <td>5.0</td>\n",
       "      <td></td>\n",
       "      <td></td>\n",
       "      <td></td>\n",
       "      <td></td>\n",
       "    </tr>\n",
       "    <tr>\n",
       "      <th>6</th>\n",
       "      <td>5.0</td>\n",
       "      <td>5.0</td>\n",
       "      <td>5.0</td>\n",
       "      <td>5.0</td>\n",
       "      <td>5.0</td>\n",
       "      <td>5.0</td>\n",
       "      <td>5.0</td>\n",
       "      <td></td>\n",
       "      <td></td>\n",
       "      <td></td>\n",
       "      <td></td>\n",
       "      <td></td>\n",
       "    </tr>\n",
       "    <tr>\n",
       "      <th>7</th>\n",
       "      <td>6.0</td>\n",
       "      <td>6.0</td>\n",
       "      <td>6.0</td>\n",
       "      <td>6.0</td>\n",
       "      <td>6.0</td>\n",
       "      <td>6.0</td>\n",
       "      <td></td>\n",
       "      <td></td>\n",
       "      <td></td>\n",
       "      <td></td>\n",
       "      <td></td>\n",
       "      <td></td>\n",
       "    </tr>\n",
       "    <tr>\n",
       "      <th>8</th>\n",
       "      <td>5.0</td>\n",
       "      <td>5.0</td>\n",
       "      <td>5.0</td>\n",
       "      <td>5.0</td>\n",
       "      <td>5.0</td>\n",
       "      <td></td>\n",
       "      <td></td>\n",
       "      <td></td>\n",
       "      <td></td>\n",
       "      <td></td>\n",
       "      <td></td>\n",
       "      <td></td>\n",
       "    </tr>\n",
       "    <tr>\n",
       "      <th>9</th>\n",
       "      <td>5.0</td>\n",
       "      <td>6.0</td>\n",
       "      <td>6.0</td>\n",
       "      <td>6.0</td>\n",
       "      <td></td>\n",
       "      <td></td>\n",
       "      <td></td>\n",
       "      <td></td>\n",
       "      <td></td>\n",
       "      <td></td>\n",
       "      <td></td>\n",
       "      <td></td>\n",
       "    </tr>\n",
       "    <tr>\n",
       "      <th>10</th>\n",
       "      <td>5.0</td>\n",
       "      <td>5.0</td>\n",
       "      <td>5.0</td>\n",
       "      <td></td>\n",
       "      <td></td>\n",
       "      <td></td>\n",
       "      <td></td>\n",
       "      <td></td>\n",
       "      <td></td>\n",
       "      <td></td>\n",
       "      <td></td>\n",
       "      <td></td>\n",
       "    </tr>\n",
       "    <tr>\n",
       "      <th>11</th>\n",
       "      <td>5.0</td>\n",
       "      <td>5.0</td>\n",
       "      <td></td>\n",
       "      <td></td>\n",
       "      <td></td>\n",
       "      <td></td>\n",
       "      <td></td>\n",
       "      <td></td>\n",
       "      <td></td>\n",
       "      <td></td>\n",
       "      <td></td>\n",
       "      <td></td>\n",
       "    </tr>\n",
       "    <tr>\n",
       "      <th>12</th>\n",
       "      <td>4.0</td>\n",
       "      <td></td>\n",
       "      <td></td>\n",
       "      <td></td>\n",
       "      <td></td>\n",
       "      <td></td>\n",
       "      <td></td>\n",
       "      <td></td>\n",
       "      <td></td>\n",
       "      <td></td>\n",
       "      <td></td>\n",
       "      <td></td>\n",
       "    </tr>\n",
       "  </tbody>\n",
       "</table>\n",
       "</div>"
      ],
      "text/plain": [
       "age                 0    1    2     3     4     5     6     7     8     9   \\\n",
       "first_order_month                                                            \n",
       "1                  5.0  7.0  9.0  10.0  11.0  11.0  11.0  11.0  12.0  13.0   \n",
       "2                  4.0  5.0  5.0   5.0   5.0   5.0   5.0   5.0   5.0   5.0   \n",
       "3                  5.0  5.0  5.0   5.0   5.0   5.0   5.0   5.0   5.0   5.0   \n",
       "4                  5.0  6.0  6.0   6.0   6.0   6.0   6.0   6.0   6.0         \n",
       "5                  5.0  5.0  5.0   5.0   5.0   5.0   5.0   5.0               \n",
       "6                  5.0  5.0  5.0   5.0   5.0   5.0   5.0                     \n",
       "7                  6.0  6.0  6.0   6.0   6.0   6.0                           \n",
       "8                  5.0  5.0  5.0   5.0   5.0                                 \n",
       "9                  5.0  6.0  6.0   6.0                                       \n",
       "10                 5.0  5.0  5.0                                             \n",
       "11                 5.0  5.0                                                  \n",
       "12                 4.0                                                       \n",
       "\n",
       "age                  10    11  \n",
       "first_order_month              \n",
       "1                  14.0  18.0  \n",
       "2                   5.0        \n",
       "3                              \n",
       "4                              \n",
       "5                              \n",
       "6                              \n",
       "7                              \n",
       "8                              \n",
       "9                              \n",
       "10                             \n",
       "11                             \n",
       "12                             "
      ]
     },
     "execution_count": 352,
     "metadata": {},
     "output_type": "execute_result"
    }
   ],
   "source": [
    "margin_rate = 1 #considerando un margen de 1\n",
    "report['gp'] = report['revenue'] * margin_rate \n",
    "report['age'] = ( report['month']-report['first_order_month'] )\n",
    "report['age'] = report['age'].round().astype('int') \n",
    "\n",
    "report['ltv'] = report['gp'] / report['n_buyers'] \n",
    "\n",
    "output = report.pivot_table( index='first_order_month', columns='age', values='ltv', aggfunc='mean' ).round() \n",
    "output_acu= output.cumsum(axis=1).round(2)\n",
    "output_acu.fillna('')"
   ]
  },
  {
   "cell_type": "code",
   "execution_count": 353,
   "metadata": {},
   "outputs": [
    {
     "data": {
      "image/png": "[encoded data removed]",
      "text/plain": [
       "<Figure size 576x432 with 2 Axes>"
      ]
     },
     "metadata": {},
     "output_type": "display_data"
    }
   ],
   "source": [
    "\n",
    "plt.figure(figsize=(8, 6))\n",
    "sns.heatmap(output_acu, cmap='hot', annot=True, fmt=\".1f\")\n",
    "plt.show()"
   ]
  },
  {
   "cell_type": "markdown",
   "metadata": {},
   "source": [
    "Se observa en el heatmap que en el primer cohorte se da un aumento del ltv en el transcurso de los meses."
   ]
  },
  {
   "cell_type": "code",
   "execution_count": 354,
   "metadata": {},
   "outputs": [
    {
     "name": "stdout",
     "output_type": "stream",
     "text": [
      "first_order_month\n",
      "1     18.0\n",
      "2      5.0\n",
      "3      5.0\n",
      "4      6.0\n",
      "5      5.0\n",
      "6      5.0\n",
      "7      6.0\n",
      "8      5.0\n",
      "9      6.0\n",
      "10     5.0\n",
      "11     5.0\n",
      "12     4.0\n",
      "Name: total, dtype: float64\n"
     ]
    }
   ],
   "source": [
    "output['total']= output.iloc[:, 0:].sum(axis=1)\n",
    "print( output[\"total\"])\n"
   ]
  },
  {
   "cell_type": "code",
   "execution_count": 355,
   "metadata": {},
   "outputs": [
    {
     "data": {
      "text/plain": [
       "6.25"
      ]
     },
     "execution_count": 355,
     "metadata": {},
     "output_type": "execute_result"
    }
   ],
   "source": [
    "output['total'].mean()"
   ]
  },
  {
   "cell_type": "markdown",
   "metadata": {},
   "source": [
    "En promedio un cliente de cada cohorte genera un ingreso de 6.25 soles por usuario. Además los clientes en la mayoria de casos no vuelven a realizar más compras en los siguientes meses."
   ]
  },
  {
   "cell_type": "markdown",
   "metadata": {},
   "source": [
    "Se analizará teniendo en cuenta las fuentes de anuncios: Se asocia cada venta al último anuncio visto antes de la primera compra.\n"
   ]
  },
  {
   "cell_type": "code",
   "execution_count": 356,
   "metadata": {},
   "outputs": [],
   "source": [
    "\n",
    "data_orde_source= pd.merge(data_ordenes, ultima_sesion_por_usuario, on=[\"uid\"])\n"
   ]
  },
  {
   "cell_type": "code",
   "execution_count": 357,
   "metadata": {},
   "outputs": [],
   "source": [
    "data_orde_source=data_orde_source.groupby(\"source_id\").agg({'uid': 'nunique', \n",
    "                                                                   'revenue': 'sum', \n",
    "                                                    })"
   ]
  },
  {
   "cell_type": "code",
   "execution_count": 358,
   "metadata": {},
   "outputs": [],
   "source": [
    "margin_rate = 1 #considerando un margen de 1\n",
    "data_orde_source['gp'] = data_orde_source['revenue'] * margin_rate\n",
    "data_orde_source['ltv'] = data_orde_source['gp'] / data_orde_source['uid'] "
   ]
  },
  {
   "cell_type": "code",
   "execution_count": 359,
   "metadata": {},
   "outputs": [
    {
     "name": "stdout",
     "output_type": "stream",
     "text": [
      "            uid   revenue        gp        ltv\n",
      "source_id                                     \n",
      "1          3956  35154.70  35154.70   8.886426\n",
      "2          3695  51096.87  51096.87  13.828652\n",
      "3          8535  41463.66  41463.66   4.858074\n",
      "4          9198  49777.39  49777.39   5.411762\n",
      "5          6605  49222.28  49222.28   7.452276\n",
      "7             1      1.22      1.22   1.220000\n",
      "9           891   4367.02   4367.02   4.901257\n",
      "10         1187   4215.01   4215.01   3.550977\n"
     ]
    }
   ],
   "source": [
    "print(data_orde_source)"
   ]
  },
  {
   "cell_type": "markdown",
   "metadata": {},
   "source": [
    "La fuente que generó mayor ingresopor usuario fue la fuente 2, la fuente que genera menos ingreso es la fuente 7 a pesar que el tiempo de respuesta era de 0 días, y es porque solo fue 1 usuario.\n",
    "\n",
    "Siendo la fuente 4 y 5 las que atrajeron más usuarios."
   ]
  },
  {
   "cell_type": "markdown",
   "metadata": {},
   "source": [
    "## Marketing:"
   ]
  },
  {
   "cell_type": "markdown",
   "metadata": {},
   "source": [
    "### ¿Cuánto dinero se gastó? (Total/por fuente de adquisición/a lo largo del tiempo"
   ]
  },
  {
   "cell_type": "markdown",
   "metadata": {},
   "source": [
    "Se agrupa por source_id y mes para ver el compartmiento de los costos en los meses"
   ]
  },
  {
   "cell_type": "code",
   "execution_count": 360,
   "metadata": {},
   "outputs": [
    {
     "name": "stdout",
     "output_type": "stream",
     "text": [
      "year           2017                                                           \\\n",
      "month            6        7        8        9         10        11        12   \n",
      "year-month  2017-06  2017-07  2017-08  2017-09   2017-10   2017-11   2017-12   \n",
      "source_id                                                                      \n",
      "1           1125.61  1072.88   951.81  1502.01   2315.75   2445.16   2341.20   \n",
      "2           2427.38  2333.11  1811.05  2985.66   4845.00   5247.68   4897.80   \n",
      "3           7731.65  7674.37  6143.54  9963.55  15737.24  17025.34  16219.52   \n",
      "4           3514.80  3529.73  3217.36  5192.26   6420.84   5388.82   7680.47   \n",
      "5           2616.12  2998.14  2185.28  3849.14   5767.40   6325.34   5872.52   \n",
      "9            285.22   302.54   248.93   415.62    609.41    683.18    657.98   \n",
      "10           314.22   329.82   232.57   460.67    627.24    792.36    645.86   \n",
      "\n",
      "year            2018                                        \n",
      "month             1         2         3        4        5   \n",
      "year-month   2018-01   2018-02   2018-03  2018-04  2018-05  \n",
      "source_id                                                   \n",
      "1            2186.18   2204.48   1893.09  1327.49  1467.61  \n",
      "2            4157.74   4474.34   3943.14  2993.70  2689.44  \n",
      "3           14808.78  14228.56  13080.85  9296.81  9411.42  \n",
      "4            5832.79   5711.96   5961.87  4408.49  4214.21  \n",
      "5            5371.52   5071.31   4529.62  3501.15  3669.56  \n",
      "9             547.16    551.50    480.29   373.49   362.17  \n",
      "10            614.35    480.88    526.41   388.25   409.86  \n"
     ]
    }
   ],
   "source": [
    "data_costos[\"year-month\"] = data_costos[\"dt\"].dt.strftime(\"%Y-%m\")\n",
    "data_costos[\"year\"]=data_costos[\"dt\"].dt.year\n",
    "data_costos[\"month\"]=data_costos[\"dt\"].dt.month\n",
    "costos_tot=data_costos.pivot_table(index=\"source_id\",columns=[\"year\",\"month\",\"year-month\"],values=\"costs\",aggfunc=\"sum\")\n",
    "print(costos_tot)"
   ]
  },
  {
   "cell_type": "markdown",
   "metadata": {},
   "source": [
    "No se registra costos de las fuentes 6, 7 y 8."
   ]
  },
  {
   "cell_type": "code",
   "execution_count": 361,
   "metadata": {},
   "outputs": [
    {
     "data": {
      "image/png": "[encoded data removed]",
      "text/plain": [
       "<Figure size 864x432 with 1 Axes>"
      ]
     },
     "metadata": {},
     "output_type": "display_data"
    }
   ],
   "source": [
    "palette = sns.color_palette(\"Set1\", len(costos_tot.index))\n",
    "\n",
    "\n",
    "# Configuración del estilo del gráfico\n",
    "sns.set(style=\"whitegrid\")\n",
    "\n",
    "# Crear el gráfico de líneas\n",
    "plt.figure(figsize=(12, 6))\n",
    "sns.lineplot(data=costos_tot.T.stack().reset_index(), x=\"year-month\", y=0, hue=\"source_id\", marker='o',palette=palette, linewidth=2.5)\n",
    "\n",
    "# Añadir título y etiquetas\n",
    "plt.title(\"Costos totales por mes y fuente\")\n",
    "plt.xlabel(\"Mes\")\n",
    "plt.ylabel(\"Costos\")\n",
    "plt.xticks(rotation=45)  # Rotar etiquetas del eje x para mayor claridad\n",
    "\n",
    "# Mostrar el gráfico\n",
    "plt.legend(title='Source ID', loc='upper right')\n",
    "plt.tight_layout()\n",
    "plt.show()"
   ]
  },
  {
   "cell_type": "markdown",
   "metadata": {},
   "source": [
    "Los costos de la fuente de anuncio 3 fueron los mayores a lo largo de los meses, llegando a su punto más alto en noviembre del 2017."
   ]
  },
  {
   "cell_type": "markdown",
   "metadata": {},
   "source": [
    "### ¿Cuál fue el costo de adquisición de clientes de cada una de las fuentes?"
   ]
  },
  {
   "cell_type": "code",
   "execution_count": 362,
   "metadata": {},
   "outputs": [
    {
     "name": "stdout",
     "output_type": "stream",
     "text": [
      "    year  month  source_id    costs\n",
      "0   2017      6          1  1125.61\n",
      "1   2017      6          2  2427.38\n",
      "2   2017      6          3  7731.65\n",
      "3   2017      6          4  3514.80\n",
      "4   2017      6          5  2616.12\n",
      "..   ...    ...        ...      ...\n",
      "79  2018      5          3  9411.42\n",
      "80  2018      5          4  4214.21\n",
      "81  2018      5          5  3669.56\n",
      "82  2018      5          9   362.17\n",
      "83  2018      5         10   409.86\n",
      "\n",
      "[84 rows x 4 columns]\n"
     ]
    }
   ],
   "source": [
    "#Se agrupa por mes y source id,resumiendo costos por fuente.\n",
    "\n",
    "costos_mes_source=data_costos.groupby([\"year\",\"month\",\"source_id\"])[\"costs\"].sum().reset_index()\n",
    "print(costos_mes_source)"
   ]
  },
  {
   "cell_type": "code",
   "execution_count": 363,
   "metadata": {},
   "outputs": [],
   "source": [
    "nbuyer_source= ultima_sesion_por_usuario.groupby([\"source_id\",\"month\"])[\"uid\"].nunique().reset_index() \n",
    "# se considera los usuarios que realizaron su primera compra en el mes\n"
   ]
  },
  {
   "cell_type": "code",
   "execution_count": 364,
   "metadata": {},
   "outputs": [
    {
     "data": {
      "text/html": [
       "<div>\n",
       "<style scoped>\n",
       "    .dataframe tbody tr th:only-of-type {\n",
       "        vertical-align: middle;\n",
       "    }\n",
       "\n",
       "    .dataframe tbody tr th {\n",
       "        vertical-align: top;\n",
       "    }\n",
       "\n",
       "    .dataframe thead th {\n",
       "        text-align: right;\n",
       "    }\n",
       "</style>\n",
       "<table border=\"1\" class=\"dataframe\">\n",
       "  <thead>\n",
       "    <tr style=\"text-align: right;\">\n",
       "      <th></th>\n",
       "      <th>year</th>\n",
       "      <th>month</th>\n",
       "      <th>source_id</th>\n",
       "      <th>costs</th>\n",
       "      <th>uid</th>\n",
       "      <th>cac</th>\n",
       "    </tr>\n",
       "  </thead>\n",
       "  <tbody>\n",
       "    <tr>\n",
       "      <th>0</th>\n",
       "      <td>2017</td>\n",
       "      <td>6</td>\n",
       "      <td>1</td>\n",
       "      <td>1125.61</td>\n",
       "      <td>209</td>\n",
       "      <td>5.385694</td>\n",
       "    </tr>\n",
       "    <tr>\n",
       "      <th>1</th>\n",
       "      <td>2017</td>\n",
       "      <td>6</td>\n",
       "      <td>2</td>\n",
       "      <td>2427.38</td>\n",
       "      <td>210</td>\n",
       "      <td>11.558952</td>\n",
       "    </tr>\n",
       "    <tr>\n",
       "      <th>2</th>\n",
       "      <td>2017</td>\n",
       "      <td>6</td>\n",
       "      <td>3</td>\n",
       "      <td>7731.65</td>\n",
       "      <td>561</td>\n",
       "      <td>13.781907</td>\n",
       "    </tr>\n",
       "    <tr>\n",
       "      <th>3</th>\n",
       "      <td>2017</td>\n",
       "      <td>6</td>\n",
       "      <td>4</td>\n",
       "      <td>3514.80</td>\n",
       "      <td>353</td>\n",
       "      <td>9.956941</td>\n",
       "    </tr>\n",
       "    <tr>\n",
       "      <th>4</th>\n",
       "      <td>2017</td>\n",
       "      <td>6</td>\n",
       "      <td>5</td>\n",
       "      <td>2616.12</td>\n",
       "      <td>353</td>\n",
       "      <td>7.411105</td>\n",
       "    </tr>\n",
       "    <tr>\n",
       "      <th>5</th>\n",
       "      <td>2017</td>\n",
       "      <td>6</td>\n",
       "      <td>9</td>\n",
       "      <td>285.22</td>\n",
       "      <td>52</td>\n",
       "      <td>5.485000</td>\n",
       "    </tr>\n",
       "    <tr>\n",
       "      <th>6</th>\n",
       "      <td>2017</td>\n",
       "      <td>6</td>\n",
       "      <td>10</td>\n",
       "      <td>314.22</td>\n",
       "      <td>86</td>\n",
       "      <td>3.653721</td>\n",
       "    </tr>\n",
       "    <tr>\n",
       "      <th>7</th>\n",
       "      <td>2017</td>\n",
       "      <td>7</td>\n",
       "      <td>1</td>\n",
       "      <td>1072.88</td>\n",
       "      <td>221</td>\n",
       "      <td>4.854661</td>\n",
       "    </tr>\n",
       "    <tr>\n",
       "      <th>8</th>\n",
       "      <td>2017</td>\n",
       "      <td>7</td>\n",
       "      <td>2</td>\n",
       "      <td>2333.11</td>\n",
       "      <td>215</td>\n",
       "      <td>10.851674</td>\n",
       "    </tr>\n",
       "    <tr>\n",
       "      <th>9</th>\n",
       "      <td>2017</td>\n",
       "      <td>7</td>\n",
       "      <td>3</td>\n",
       "      <td>7674.37</td>\n",
       "      <td>400</td>\n",
       "      <td>19.185925</td>\n",
       "    </tr>\n",
       "  </tbody>\n",
       "</table>\n",
       "</div>"
      ],
      "text/plain": [
       "   year  month  source_id    costs  uid        cac\n",
       "0  2017      6          1  1125.61  209   5.385694\n",
       "1  2017      6          2  2427.38  210  11.558952\n",
       "2  2017      6          3  7731.65  561  13.781907\n",
       "3  2017      6          4  3514.80  353   9.956941\n",
       "4  2017      6          5  2616.12  353   7.411105\n",
       "5  2017      6          9   285.22   52   5.485000\n",
       "6  2017      6         10   314.22   86   3.653721\n",
       "7  2017      7          1  1072.88  221   4.854661\n",
       "8  2017      7          2  2333.11  215  10.851674\n",
       "9  2017      7          3  7674.37  400  19.185925"
      ]
     },
     "execution_count": 364,
     "metadata": {},
     "output_type": "execute_result"
    }
   ],
   "source": [
    "report_ = pd.merge(costos_mes_source, nbuyer_source, on=['month',\"source_id\"])\n",
    "\n",
    "report_['cac'] = report_['costs'] / report_['uid'] # calculando el costo por usuario y canal en cada mes\n",
    "report_.head(10)"
   ]
  },
  {
   "cell_type": "code",
   "execution_count": 365,
   "metadata": {},
   "outputs": [
    {
     "name": "stdout",
     "output_type": "stream",
     "text": [
      "source_id\n",
      "1      5.377754\n",
      "2     11.864314\n",
      "3     16.928051\n",
      "4      7.233582\n",
      "5      7.836777\n",
      "9      6.927168\n",
      "10     5.380649\n",
      "Name: cac, dtype: float64\n"
     ]
    }
   ],
   "source": [
    "data_costo_source=report_.groupby(\"source_id\")[\"cac\"].mean() # promediando valores de cac por source_id\n",
    "print(data_costo_source)"
   ]
  },
  {
   "cell_type": "code",
   "execution_count": 276,
   "metadata": {},
   "outputs": [
    {
     "data": {
      "text/plain": [
       "8.792613518991645"
      ]
     },
     "execution_count": 276,
     "metadata": {},
     "output_type": "execute_result"
    }
   ],
   "source": [
    "report_['cac'].mean()"
   ]
  },
  {
   "cell_type": "markdown",
   "metadata": {},
   "source": [
    "Los costos por adquisición de un cliente es alrededor 8.79.\n",
    "Siendo la fuente más elevada la 3, y la menos costosa la 10.\n",
    "Se da entender que no hay costos generados por las fuentes 6,7,8 sin embargo la fuente 7 fue una fuente efectiva ya que generaba compras en el mismo día."
   ]
  },
  {
   "cell_type": "markdown",
   "metadata": {},
   "source": [
    "¿Cuán rentables eran las inversiones? (ROMI)"
   ]
  },
  {
   "cell_type": "code",
   "execution_count": 366,
   "metadata": {},
   "outputs": [
    {
     "data": {
      "text/html": [
       "<div>\n",
       "<style scoped>\n",
       "    .dataframe tbody tr th:only-of-type {\n",
       "        vertical-align: middle;\n",
       "    }\n",
       "\n",
       "    .dataframe tbody tr th {\n",
       "        vertical-align: top;\n",
       "    }\n",
       "\n",
       "    .dataframe thead th {\n",
       "        text-align: right;\n",
       "    }\n",
       "</style>\n",
       "<table border=\"1\" class=\"dataframe\">\n",
       "  <thead>\n",
       "    <tr style=\"text-align: right;\">\n",
       "      <th></th>\n",
       "      <th>buy_ts</th>\n",
       "      <th>revenue</th>\n",
       "      <th>uid</th>\n",
       "      <th>year</th>\n",
       "      <th>month</th>\n",
       "      <th>first_order_month</th>\n",
       "    </tr>\n",
       "  </thead>\n",
       "  <tbody>\n",
       "    <tr>\n",
       "      <th>0</th>\n",
       "      <td>2017-06-01 00:10:00</td>\n",
       "      <td>17.00</td>\n",
       "      <td>10329302124590727494</td>\n",
       "      <td>2017</td>\n",
       "      <td>6</td>\n",
       "      <td>6</td>\n",
       "    </tr>\n",
       "    <tr>\n",
       "      <th>1</th>\n",
       "      <td>2017-06-01 00:25:00</td>\n",
       "      <td>0.55</td>\n",
       "      <td>11627257723692907447</td>\n",
       "      <td>2017</td>\n",
       "      <td>6</td>\n",
       "      <td>6</td>\n",
       "    </tr>\n",
       "    <tr>\n",
       "      <th>2</th>\n",
       "      <td>2017-06-01 00:27:00</td>\n",
       "      <td>0.37</td>\n",
       "      <td>17903680561304213844</td>\n",
       "      <td>2017</td>\n",
       "      <td>6</td>\n",
       "      <td>6</td>\n",
       "    </tr>\n",
       "    <tr>\n",
       "      <th>3</th>\n",
       "      <td>2017-06-01 00:29:00</td>\n",
       "      <td>0.55</td>\n",
       "      <td>16109239769442553005</td>\n",
       "      <td>2017</td>\n",
       "      <td>6</td>\n",
       "      <td>6</td>\n",
       "    </tr>\n",
       "    <tr>\n",
       "      <th>4</th>\n",
       "      <td>2017-06-01 07:58:00</td>\n",
       "      <td>0.37</td>\n",
       "      <td>14200605875248379450</td>\n",
       "      <td>2017</td>\n",
       "      <td>6</td>\n",
       "      <td>6</td>\n",
       "    </tr>\n",
       "    <tr>\n",
       "      <th>...</th>\n",
       "      <td>...</td>\n",
       "      <td>...</td>\n",
       "      <td>...</td>\n",
       "      <td>...</td>\n",
       "      <td>...</td>\n",
       "      <td>...</td>\n",
       "    </tr>\n",
       "    <tr>\n",
       "      <th>50410</th>\n",
       "      <td>2018-05-31 23:50:00</td>\n",
       "      <td>4.64</td>\n",
       "      <td>12296626599487328624</td>\n",
       "      <td>2018</td>\n",
       "      <td>5</td>\n",
       "      <td>5</td>\n",
       "    </tr>\n",
       "    <tr>\n",
       "      <th>50411</th>\n",
       "      <td>2018-05-31 23:50:00</td>\n",
       "      <td>5.80</td>\n",
       "      <td>11369640365507475976</td>\n",
       "      <td>2018</td>\n",
       "      <td>5</td>\n",
       "      <td>5</td>\n",
       "    </tr>\n",
       "    <tr>\n",
       "      <th>50412</th>\n",
       "      <td>2018-05-31 23:54:00</td>\n",
       "      <td>0.30</td>\n",
       "      <td>1786462140797698849</td>\n",
       "      <td>2018</td>\n",
       "      <td>5</td>\n",
       "      <td>5</td>\n",
       "    </tr>\n",
       "    <tr>\n",
       "      <th>50413</th>\n",
       "      <td>2018-05-31 23:56:00</td>\n",
       "      <td>3.67</td>\n",
       "      <td>3993697860786194247</td>\n",
       "      <td>2018</td>\n",
       "      <td>5</td>\n",
       "      <td>5</td>\n",
       "    </tr>\n",
       "    <tr>\n",
       "      <th>50414</th>\n",
       "      <td>2018-06-01 00:02:00</td>\n",
       "      <td>3.42</td>\n",
       "      <td>83872787173869366</td>\n",
       "      <td>2018</td>\n",
       "      <td>6</td>\n",
       "      <td>6</td>\n",
       "    </tr>\n",
       "  </tbody>\n",
       "</table>\n",
       "<p>50415 rows × 6 columns</p>\n",
       "</div>"
      ],
      "text/plain": [
       "                   buy_ts  revenue                   uid  year  month  \\\n",
       "0     2017-06-01 00:10:00    17.00  10329302124590727494  2017      6   \n",
       "1     2017-06-01 00:25:00     0.55  11627257723692907447  2017      6   \n",
       "2     2017-06-01 00:27:00     0.37  17903680561304213844  2017      6   \n",
       "3     2017-06-01 00:29:00     0.55  16109239769442553005  2017      6   \n",
       "4     2017-06-01 07:58:00     0.37  14200605875248379450  2017      6   \n",
       "...                   ...      ...                   ...   ...    ...   \n",
       "50410 2018-05-31 23:50:00     4.64  12296626599487328624  2018      5   \n",
       "50411 2018-05-31 23:50:00     5.80  11369640365507475976  2018      5   \n",
       "50412 2018-05-31 23:54:00     0.30   1786462140797698849  2018      5   \n",
       "50413 2018-05-31 23:56:00     3.67   3993697860786194247  2018      5   \n",
       "50414 2018-06-01 00:02:00     3.42     83872787173869366  2018      6   \n",
       "\n",
       "       first_order_month  \n",
       "0                      6  \n",
       "1                      6  \n",
       "2                      6  \n",
       "3                      6  \n",
       "4                      6  \n",
       "...                  ...  \n",
       "50410                  5  \n",
       "50411                  5  \n",
       "50412                  5  \n",
       "50413                  5  \n",
       "50414                  6  \n",
       "\n",
       "[50415 rows x 6 columns]"
      ]
     },
     "execution_count": 366,
     "metadata": {},
     "output_type": "execute_result"
    }
   ],
   "source": [
    "data_ordenes"
   ]
  },
  {
   "cell_type": "code",
   "execution_count": 367,
   "metadata": {},
   "outputs": [
    {
     "data": {
      "text/html": [
       "<div>\n",
       "<style scoped>\n",
       "    .dataframe tbody tr th:only-of-type {\n",
       "        vertical-align: middle;\n",
       "    }\n",
       "\n",
       "    .dataframe tbody tr th {\n",
       "        vertical-align: top;\n",
       "    }\n",
       "\n",
       "    .dataframe thead th {\n",
       "        text-align: right;\n",
       "    }\n",
       "</style>\n",
       "<table border=\"1\" class=\"dataframe\">\n",
       "  <thead>\n",
       "    <tr style=\"text-align: right;\">\n",
       "      <th></th>\n",
       "      <th>uid</th>\n",
       "      <th>revenue</th>\n",
       "      <th>gp</th>\n",
       "      <th>ltv</th>\n",
       "    </tr>\n",
       "    <tr>\n",
       "      <th>source_id</th>\n",
       "      <th></th>\n",
       "      <th></th>\n",
       "      <th></th>\n",
       "      <th></th>\n",
       "    </tr>\n",
       "  </thead>\n",
       "  <tbody>\n",
       "    <tr>\n",
       "      <th>1</th>\n",
       "      <td>3956</td>\n",
       "      <td>35154.70</td>\n",
       "      <td>35154.70</td>\n",
       "      <td>8.886426</td>\n",
       "    </tr>\n",
       "    <tr>\n",
       "      <th>2</th>\n",
       "      <td>3695</td>\n",
       "      <td>51096.87</td>\n",
       "      <td>51096.87</td>\n",
       "      <td>13.828652</td>\n",
       "    </tr>\n",
       "    <tr>\n",
       "      <th>3</th>\n",
       "      <td>8535</td>\n",
       "      <td>41463.66</td>\n",
       "      <td>41463.66</td>\n",
       "      <td>4.858074</td>\n",
       "    </tr>\n",
       "    <tr>\n",
       "      <th>4</th>\n",
       "      <td>9198</td>\n",
       "      <td>49777.39</td>\n",
       "      <td>49777.39</td>\n",
       "      <td>5.411762</td>\n",
       "    </tr>\n",
       "    <tr>\n",
       "      <th>5</th>\n",
       "      <td>6605</td>\n",
       "      <td>49222.28</td>\n",
       "      <td>49222.28</td>\n",
       "      <td>7.452276</td>\n",
       "    </tr>\n",
       "    <tr>\n",
       "      <th>7</th>\n",
       "      <td>1</td>\n",
       "      <td>1.22</td>\n",
       "      <td>1.22</td>\n",
       "      <td>1.220000</td>\n",
       "    </tr>\n",
       "    <tr>\n",
       "      <th>9</th>\n",
       "      <td>891</td>\n",
       "      <td>4367.02</td>\n",
       "      <td>4367.02</td>\n",
       "      <td>4.901257</td>\n",
       "    </tr>\n",
       "    <tr>\n",
       "      <th>10</th>\n",
       "      <td>1187</td>\n",
       "      <td>4215.01</td>\n",
       "      <td>4215.01</td>\n",
       "      <td>3.550977</td>\n",
       "    </tr>\n",
       "  </tbody>\n",
       "</table>\n",
       "</div>"
      ],
      "text/plain": [
       "            uid   revenue        gp        ltv\n",
       "source_id                                     \n",
       "1          3956  35154.70  35154.70   8.886426\n",
       "2          3695  51096.87  51096.87  13.828652\n",
       "3          8535  41463.66  41463.66   4.858074\n",
       "4          9198  49777.39  49777.39   5.411762\n",
       "5          6605  49222.28  49222.28   7.452276\n",
       "7             1      1.22      1.22   1.220000\n",
       "9           891   4367.02   4367.02   4.901257\n",
       "10         1187   4215.01   4215.01   3.550977"
      ]
     },
     "execution_count": 367,
     "metadata": {},
     "output_type": "execute_result"
    }
   ],
   "source": [
    "data_orde_source"
   ]
  },
  {
   "cell_type": "code",
   "execution_count": 368,
   "metadata": {},
   "outputs": [
    {
     "data": {
      "text/html": [
       "<div>\n",
       "<style scoped>\n",
       "    .dataframe tbody tr th:only-of-type {\n",
       "        vertical-align: middle;\n",
       "    }\n",
       "\n",
       "    .dataframe tbody tr th {\n",
       "        vertical-align: top;\n",
       "    }\n",
       "\n",
       "    .dataframe thead th {\n",
       "        text-align: right;\n",
       "    }\n",
       "</style>\n",
       "<table border=\"1\" class=\"dataframe\">\n",
       "  <thead>\n",
       "    <tr style=\"text-align: right;\">\n",
       "      <th></th>\n",
       "      <th>source_id</th>\n",
       "      <th>cac</th>\n",
       "    </tr>\n",
       "  </thead>\n",
       "  <tbody>\n",
       "    <tr>\n",
       "      <th>0</th>\n",
       "      <td>1</td>\n",
       "      <td>5.377754</td>\n",
       "    </tr>\n",
       "    <tr>\n",
       "      <th>1</th>\n",
       "      <td>2</td>\n",
       "      <td>11.864314</td>\n",
       "    </tr>\n",
       "    <tr>\n",
       "      <th>2</th>\n",
       "      <td>3</td>\n",
       "      <td>16.928051</td>\n",
       "    </tr>\n",
       "    <tr>\n",
       "      <th>3</th>\n",
       "      <td>4</td>\n",
       "      <td>7.233582</td>\n",
       "    </tr>\n",
       "    <tr>\n",
       "      <th>4</th>\n",
       "      <td>5</td>\n",
       "      <td>7.836777</td>\n",
       "    </tr>\n",
       "    <tr>\n",
       "      <th>5</th>\n",
       "      <td>9</td>\n",
       "      <td>6.927168</td>\n",
       "    </tr>\n",
       "    <tr>\n",
       "      <th>6</th>\n",
       "      <td>10</td>\n",
       "      <td>5.380649</td>\n",
       "    </tr>\n",
       "  </tbody>\n",
       "</table>\n",
       "</div>"
      ],
      "text/plain": [
       "   source_id        cac\n",
       "0          1   5.377754\n",
       "1          2  11.864314\n",
       "2          3  16.928051\n",
       "3          4   7.233582\n",
       "4          5   7.836777\n",
       "5          9   6.927168\n",
       "6         10   5.380649"
      ]
     },
     "execution_count": 368,
     "metadata": {},
     "output_type": "execute_result"
    }
   ],
   "source": [
    "data_costo_source.reset_index()"
   ]
  },
  {
   "cell_type": "code",
   "execution_count": 369,
   "metadata": {},
   "outputs": [],
   "source": [
    "# Romi por fuente\n",
    "data_romi=pd.merge(data_costo_source,data_orde_source,on=\"source_id\",how=\"outer\")\n"
   ]
  },
  {
   "cell_type": "code",
   "execution_count": 370,
   "metadata": {},
   "outputs": [
    {
     "name": "stdout",
     "output_type": "stream",
     "text": [
      "                 cac   uid   revenue        gp        ltv\n",
      "source_id                                                \n",
      "1           5.377754  3956  35154.70  35154.70   8.886426\n",
      "2          11.864314  3695  51096.87  51096.87  13.828652\n",
      "3          16.928051  8535  41463.66  41463.66   4.858074\n",
      "4           7.233582  9198  49777.39  49777.39   5.411762\n",
      "5           7.836777  6605  49222.28  49222.28   7.452276\n",
      "9           6.927168   891   4367.02   4367.02   4.901257\n",
      "10          5.380649  1187   4215.01   4215.01   3.550977\n",
      "7                NaN     1      1.22      1.22   1.220000\n"
     ]
    }
   ],
   "source": [
    "print(data_romi)"
   ]
  },
  {
   "cell_type": "code",
   "execution_count": 371,
   "metadata": {},
   "outputs": [],
   "source": [
    "data_romi['romi'] = data_romi['ltv'] / data_romi['cac'] "
   ]
  },
  {
   "cell_type": "code",
   "execution_count": 372,
   "metadata": {},
   "outputs": [
    {
     "data": {
      "text/html": [
       "<div>\n",
       "<style scoped>\n",
       "    .dataframe tbody tr th:only-of-type {\n",
       "        vertical-align: middle;\n",
       "    }\n",
       "\n",
       "    .dataframe tbody tr th {\n",
       "        vertical-align: top;\n",
       "    }\n",
       "\n",
       "    .dataframe thead th {\n",
       "        text-align: right;\n",
       "    }\n",
       "</style>\n",
       "<table border=\"1\" class=\"dataframe\">\n",
       "  <thead>\n",
       "    <tr style=\"text-align: right;\">\n",
       "      <th></th>\n",
       "      <th>cac</th>\n",
       "      <th>uid</th>\n",
       "      <th>revenue</th>\n",
       "      <th>gp</th>\n",
       "      <th>ltv</th>\n",
       "      <th>romi</th>\n",
       "    </tr>\n",
       "    <tr>\n",
       "      <th>source_id</th>\n",
       "      <th></th>\n",
       "      <th></th>\n",
       "      <th></th>\n",
       "      <th></th>\n",
       "      <th></th>\n",
       "      <th></th>\n",
       "    </tr>\n",
       "  </thead>\n",
       "  <tbody>\n",
       "    <tr>\n",
       "      <th>1</th>\n",
       "      <td>5.377754</td>\n",
       "      <td>3956</td>\n",
       "      <td>35154.70</td>\n",
       "      <td>35154.70</td>\n",
       "      <td>8.886426</td>\n",
       "      <td>1.652442</td>\n",
       "    </tr>\n",
       "    <tr>\n",
       "      <th>2</th>\n",
       "      <td>11.864314</td>\n",
       "      <td>3695</td>\n",
       "      <td>51096.87</td>\n",
       "      <td>51096.87</td>\n",
       "      <td>13.828652</td>\n",
       "      <td>1.165567</td>\n",
       "    </tr>\n",
       "    <tr>\n",
       "      <th>3</th>\n",
       "      <td>16.928051</td>\n",
       "      <td>8535</td>\n",
       "      <td>41463.66</td>\n",
       "      <td>41463.66</td>\n",
       "      <td>4.858074</td>\n",
       "      <td>0.286984</td>\n",
       "    </tr>\n",
       "    <tr>\n",
       "      <th>4</th>\n",
       "      <td>7.233582</td>\n",
       "      <td>9198</td>\n",
       "      <td>49777.39</td>\n",
       "      <td>49777.39</td>\n",
       "      <td>5.411762</td>\n",
       "      <td>0.748144</td>\n",
       "    </tr>\n",
       "    <tr>\n",
       "      <th>5</th>\n",
       "      <td>7.836777</td>\n",
       "      <td>6605</td>\n",
       "      <td>49222.28</td>\n",
       "      <td>49222.28</td>\n",
       "      <td>7.452276</td>\n",
       "      <td>0.950936</td>\n",
       "    </tr>\n",
       "    <tr>\n",
       "      <th>9</th>\n",
       "      <td>6.927168</td>\n",
       "      <td>891</td>\n",
       "      <td>4367.02</td>\n",
       "      <td>4367.02</td>\n",
       "      <td>4.901257</td>\n",
       "      <td>0.707541</td>\n",
       "    </tr>\n",
       "    <tr>\n",
       "      <th>10</th>\n",
       "      <td>5.380649</td>\n",
       "      <td>1187</td>\n",
       "      <td>4215.01</td>\n",
       "      <td>4215.01</td>\n",
       "      <td>3.550977</td>\n",
       "      <td>0.659953</td>\n",
       "    </tr>\n",
       "    <tr>\n",
       "      <th>7</th>\n",
       "      <td>NaN</td>\n",
       "      <td>1</td>\n",
       "      <td>1.22</td>\n",
       "      <td>1.22</td>\n",
       "      <td>1.220000</td>\n",
       "      <td>NaN</td>\n",
       "    </tr>\n",
       "  </tbody>\n",
       "</table>\n",
       "</div>"
      ],
      "text/plain": [
       "                 cac   uid   revenue        gp        ltv      romi\n",
       "source_id                                                          \n",
       "1           5.377754  3956  35154.70  35154.70   8.886426  1.652442\n",
       "2          11.864314  3695  51096.87  51096.87  13.828652  1.165567\n",
       "3          16.928051  8535  41463.66  41463.66   4.858074  0.286984\n",
       "4           7.233582  9198  49777.39  49777.39   5.411762  0.748144\n",
       "5           7.836777  6605  49222.28  49222.28   7.452276  0.950936\n",
       "9           6.927168   891   4367.02   4367.02   4.901257  0.707541\n",
       "10          5.380649  1187   4215.01   4215.01   3.550977  0.659953\n",
       "7                NaN     1      1.22      1.22   1.220000       NaN"
      ]
     },
     "metadata": {},
     "output_type": "display_data"
    }
   ],
   "source": [
    "display(data_romi)\n"
   ]
  },
  {
   "cell_type": "markdown",
   "metadata": {},
   "source": [
    "### ROMI promedio sobre el ciclo de vida de cada cohorte"
   ]
  },
  {
   "cell_type": "code",
   "execution_count": 373,
   "metadata": {},
   "outputs": [
    {
     "data": {
      "text/html": [
       "<div>\n",
       "<style scoped>\n",
       "    .dataframe tbody tr th:only-of-type {\n",
       "        vertical-align: middle;\n",
       "    }\n",
       "\n",
       "    .dataframe tbody tr th {\n",
       "        vertical-align: top;\n",
       "    }\n",
       "\n",
       "    .dataframe thead th {\n",
       "        text-align: right;\n",
       "    }\n",
       "</style>\n",
       "<table border=\"1\" class=\"dataframe\">\n",
       "  <thead>\n",
       "    <tr style=\"text-align: right;\">\n",
       "      <th></th>\n",
       "      <th>source_id</th>\n",
       "      <th>costs</th>\n",
       "      <th>year</th>\n",
       "    </tr>\n",
       "    <tr>\n",
       "      <th>month</th>\n",
       "      <th></th>\n",
       "      <th></th>\n",
       "      <th></th>\n",
       "    </tr>\n",
       "  </thead>\n",
       "  <tbody>\n",
       "    <tr>\n",
       "      <th>1</th>\n",
       "      <td>1054</td>\n",
       "      <td>33518.52</td>\n",
       "      <td>437906</td>\n",
       "    </tr>\n",
       "    <tr>\n",
       "      <th>2</th>\n",
       "      <td>952</td>\n",
       "      <td>32723.03</td>\n",
       "      <td>395528</td>\n",
       "    </tr>\n",
       "    <tr>\n",
       "      <th>3</th>\n",
       "      <td>1025</td>\n",
       "      <td>30415.27</td>\n",
       "      <td>425798</td>\n",
       "    </tr>\n",
       "    <tr>\n",
       "      <th>4</th>\n",
       "      <td>986</td>\n",
       "      <td>22289.38</td>\n",
       "      <td>409654</td>\n",
       "    </tr>\n",
       "    <tr>\n",
       "      <th>5</th>\n",
       "      <td>1054</td>\n",
       "      <td>22224.27</td>\n",
       "      <td>437906</td>\n",
       "    </tr>\n",
       "  </tbody>\n",
       "</table>\n",
       "</div>"
      ],
      "text/plain": [
       "       source_id     costs    year\n",
       "month                             \n",
       "1           1054  33518.52  437906\n",
       "2            952  32723.03  395528\n",
       "3           1025  30415.27  425798\n",
       "4            986  22289.38  409654\n",
       "5           1054  22224.27  437906"
      ]
     },
     "execution_count": 373,
     "metadata": {},
     "output_type": "execute_result"
    }
   ],
   "source": [
    "# calcular los costos por mes \n",
    "monthly_costs = data_costos.groupby('month').sum() \n",
    "monthly_costs.head()\n"
   ]
  },
  {
   "cell_type": "code",
   "execution_count": 374,
   "metadata": {},
   "outputs": [
    {
     "data": {
      "text/html": [
       "<div>\n",
       "<style scoped>\n",
       "    .dataframe tbody tr th:only-of-type {\n",
       "        vertical-align: middle;\n",
       "    }\n",
       "\n",
       "    .dataframe tbody tr th {\n",
       "        vertical-align: top;\n",
       "    }\n",
       "\n",
       "    .dataframe thead th {\n",
       "        text-align: right;\n",
       "    }\n",
       "</style>\n",
       "<table border=\"1\" class=\"dataframe\">\n",
       "  <thead>\n",
       "    <tr style=\"text-align: right;\">\n",
       "      <th></th>\n",
       "      <th>first_order_month</th>\n",
       "      <th>n_buyers</th>\n",
       "      <th>month</th>\n",
       "      <th>revenue</th>\n",
       "      <th>gp</th>\n",
       "      <th>age</th>\n",
       "      <th>ltv</th>\n",
       "      <th>source_id</th>\n",
       "      <th>costs</th>\n",
       "      <th>year</th>\n",
       "      <th>cac</th>\n",
       "    </tr>\n",
       "  </thead>\n",
       "  <tbody>\n",
       "    <tr>\n",
       "      <th>0</th>\n",
       "      <td>1</td>\n",
       "      <td>3898</td>\n",
       "      <td>1</td>\n",
       "      <td>19417.13</td>\n",
       "      <td>19417.13</td>\n",
       "      <td>0</td>\n",
       "      <td>4.981306</td>\n",
       "      <td>1054</td>\n",
       "      <td>33518.52</td>\n",
       "      <td>437906</td>\n",
       "      <td>8.598902</td>\n",
       "    </tr>\n",
       "    <tr>\n",
       "      <th>1</th>\n",
       "      <td>1</td>\n",
       "      <td>3898</td>\n",
       "      <td>2</td>\n",
       "      <td>8275.63</td>\n",
       "      <td>8275.63</td>\n",
       "      <td>1</td>\n",
       "      <td>2.123045</td>\n",
       "      <td>1054</td>\n",
       "      <td>33518.52</td>\n",
       "      <td>437906</td>\n",
       "      <td>8.598902</td>\n",
       "    </tr>\n",
       "    <tr>\n",
       "      <th>2</th>\n",
       "      <td>1</td>\n",
       "      <td>3898</td>\n",
       "      <td>3</td>\n",
       "      <td>7970.76</td>\n",
       "      <td>7970.76</td>\n",
       "      <td>2</td>\n",
       "      <td>2.044833</td>\n",
       "      <td>1054</td>\n",
       "      <td>33518.52</td>\n",
       "      <td>437906</td>\n",
       "      <td>8.598902</td>\n",
       "    </tr>\n",
       "    <tr>\n",
       "      <th>3</th>\n",
       "      <td>1</td>\n",
       "      <td>3898</td>\n",
       "      <td>4</td>\n",
       "      <td>3697.85</td>\n",
       "      <td>3697.85</td>\n",
       "      <td>3</td>\n",
       "      <td>0.948653</td>\n",
       "      <td>1054</td>\n",
       "      <td>33518.52</td>\n",
       "      <td>437906</td>\n",
       "      <td>8.598902</td>\n",
       "    </tr>\n",
       "    <tr>\n",
       "      <th>4</th>\n",
       "      <td>1</td>\n",
       "      <td>3898</td>\n",
       "      <td>5</td>\n",
       "      <td>2676.91</td>\n",
       "      <td>2676.91</td>\n",
       "      <td>4</td>\n",
       "      <td>0.686739</td>\n",
       "      <td>1054</td>\n",
       "      <td>33518.52</td>\n",
       "      <td>437906</td>\n",
       "      <td>8.598902</td>\n",
       "    </tr>\n",
       "  </tbody>\n",
       "</table>\n",
       "</div>"
      ],
      "text/plain": [
       "   first_order_month  n_buyers  month   revenue        gp  age       ltv  \\\n",
       "0                  1      3898      1  19417.13  19417.13    0  4.981306   \n",
       "1                  1      3898      2   8275.63   8275.63    1  2.123045   \n",
       "2                  1      3898      3   7970.76   7970.76    2  2.044833   \n",
       "3                  1      3898      4   3697.85   3697.85    3  0.948653   \n",
       "4                  1      3898      5   2676.91   2676.91    4  0.686739   \n",
       "\n",
       "   source_id     costs    year       cac  \n",
       "0       1054  33518.52  437906  8.598902  \n",
       "1       1054  33518.52  437906  8.598902  \n",
       "2       1054  33518.52  437906  8.598902  \n",
       "3       1054  33518.52  437906  8.598902  \n",
       "4       1054  33518.52  437906  8.598902  "
      ]
     },
     "execution_count": 374,
     "metadata": {},
     "output_type": "execute_result"
    }
   ],
   "source": [
    "report_ = pd.merge(report, monthly_costs, left_on='first_order_month', right_on='month') \n",
    "report_['cac'] = report_['costs'] / report_['n_buyers'] \n",
    "report_.head()\n"
   ]
  },
  {
   "cell_type": "code",
   "execution_count": 375,
   "metadata": {},
   "outputs": [
    {
     "data": {
      "text/html": [
       "<div>\n",
       "<style scoped>\n",
       "    .dataframe tbody tr th:only-of-type {\n",
       "        vertical-align: middle;\n",
       "    }\n",
       "\n",
       "    .dataframe tbody tr th {\n",
       "        vertical-align: top;\n",
       "    }\n",
       "\n",
       "    .dataframe thead th {\n",
       "        text-align: right;\n",
       "    }\n",
       "</style>\n",
       "<table border=\"1\" class=\"dataframe\">\n",
       "  <thead>\n",
       "    <tr style=\"text-align: right;\">\n",
       "      <th>age</th>\n",
       "      <th>0</th>\n",
       "      <th>1</th>\n",
       "      <th>2</th>\n",
       "      <th>3</th>\n",
       "      <th>4</th>\n",
       "      <th>5</th>\n",
       "      <th>6</th>\n",
       "      <th>7</th>\n",
       "      <th>8</th>\n",
       "      <th>9</th>\n",
       "      <th>10</th>\n",
       "      <th>11</th>\n",
       "    </tr>\n",
       "    <tr>\n",
       "      <th>first_order_month</th>\n",
       "      <th></th>\n",
       "      <th></th>\n",
       "      <th></th>\n",
       "      <th></th>\n",
       "      <th></th>\n",
       "      <th></th>\n",
       "      <th></th>\n",
       "      <th></th>\n",
       "      <th></th>\n",
       "      <th></th>\n",
       "      <th></th>\n",
       "      <th></th>\n",
       "    </tr>\n",
       "  </thead>\n",
       "  <tbody>\n",
       "    <tr>\n",
       "      <th>1</th>\n",
       "      <td>0.58</td>\n",
       "      <td>0.83</td>\n",
       "      <td>1.06</td>\n",
       "      <td>1.17</td>\n",
       "      <td>1.25</td>\n",
       "      <td>1.27</td>\n",
       "      <td>1.3</td>\n",
       "      <td>1.32</td>\n",
       "      <td>1.44</td>\n",
       "      <td>1.56</td>\n",
       "      <td>1.68</td>\n",
       "      <td>2.13</td>\n",
       "    </tr>\n",
       "    <tr>\n",
       "      <th>2</th>\n",
       "      <td>0.53</td>\n",
       "      <td>0.6</td>\n",
       "      <td>0.61</td>\n",
       "      <td>0.64</td>\n",
       "      <td>0.65</td>\n",
       "      <td>0.66</td>\n",
       "      <td>0.67</td>\n",
       "      <td>0.7</td>\n",
       "      <td>0.72</td>\n",
       "      <td>0.75</td>\n",
       "      <td>0.77</td>\n",
       "      <td></td>\n",
       "    </tr>\n",
       "    <tr>\n",
       "      <th>3</th>\n",
       "      <td>0.61</td>\n",
       "      <td>0.65</td>\n",
       "      <td>0.69</td>\n",
       "      <td>0.7</td>\n",
       "      <td>0.71</td>\n",
       "      <td>0.71</td>\n",
       "      <td>0.72</td>\n",
       "      <td>0.76</td>\n",
       "      <td>0.78</td>\n",
       "      <td>0.8</td>\n",
       "      <td></td>\n",
       "      <td></td>\n",
       "    </tr>\n",
       "    <tr>\n",
       "      <th>4</th>\n",
       "      <td>0.51</td>\n",
       "      <td>0.56</td>\n",
       "      <td>0.57</td>\n",
       "      <td>0.57</td>\n",
       "      <td>0.58</td>\n",
       "      <td>0.59</td>\n",
       "      <td>0.59</td>\n",
       "      <td>0.61</td>\n",
       "      <td>0.61</td>\n",
       "      <td></td>\n",
       "      <td></td>\n",
       "      <td></td>\n",
       "    </tr>\n",
       "    <tr>\n",
       "      <th>5</th>\n",
       "      <td>0.67</td>\n",
       "      <td>0.67</td>\n",
       "      <td>0.68</td>\n",
       "      <td>0.7</td>\n",
       "      <td>0.71</td>\n",
       "      <td>0.72</td>\n",
       "      <td>0.74</td>\n",
       "      <td>0.75</td>\n",
       "      <td></td>\n",
       "      <td></td>\n",
       "      <td></td>\n",
       "      <td></td>\n",
       "    </tr>\n",
       "    <tr>\n",
       "      <th>6</th>\n",
       "      <td>0.47</td>\n",
       "      <td>0.48</td>\n",
       "      <td>0.5</td>\n",
       "      <td>0.51</td>\n",
       "      <td>0.53</td>\n",
       "      <td>0.54</td>\n",
       "      <td>0.55</td>\n",
       "      <td></td>\n",
       "      <td></td>\n",
       "      <td></td>\n",
       "      <td></td>\n",
       "      <td></td>\n",
       "    </tr>\n",
       "    <tr>\n",
       "      <th>7</th>\n",
       "      <td>0.57</td>\n",
       "      <td>0.59</td>\n",
       "      <td>0.61</td>\n",
       "      <td>0.63</td>\n",
       "      <td>0.64</td>\n",
       "      <td>0.65</td>\n",
       "      <td></td>\n",
       "      <td></td>\n",
       "      <td></td>\n",
       "      <td></td>\n",
       "      <td></td>\n",
       "      <td></td>\n",
       "    </tr>\n",
       "    <tr>\n",
       "      <th>8</th>\n",
       "      <td>0.43</td>\n",
       "      <td>0.45</td>\n",
       "      <td>0.46</td>\n",
       "      <td>0.48</td>\n",
       "      <td>0.49</td>\n",
       "      <td></td>\n",
       "      <td></td>\n",
       "      <td></td>\n",
       "      <td></td>\n",
       "      <td></td>\n",
       "      <td></td>\n",
       "      <td></td>\n",
       "    </tr>\n",
       "    <tr>\n",
       "      <th>9</th>\n",
       "      <td>0.49</td>\n",
       "      <td>0.53</td>\n",
       "      <td>0.55</td>\n",
       "      <td>0.57</td>\n",
       "      <td></td>\n",
       "      <td></td>\n",
       "      <td></td>\n",
       "      <td></td>\n",
       "      <td></td>\n",
       "      <td></td>\n",
       "      <td></td>\n",
       "      <td></td>\n",
       "    </tr>\n",
       "    <tr>\n",
       "      <th>10</th>\n",
       "      <td>0.53</td>\n",
       "      <td>0.56</td>\n",
       "      <td>0.58</td>\n",
       "      <td></td>\n",
       "      <td></td>\n",
       "      <td></td>\n",
       "      <td></td>\n",
       "      <td></td>\n",
       "      <td></td>\n",
       "      <td></td>\n",
       "      <td></td>\n",
       "      <td></td>\n",
       "    </tr>\n",
       "    <tr>\n",
       "      <th>11</th>\n",
       "      <td>0.50</td>\n",
       "      <td>0.52</td>\n",
       "      <td></td>\n",
       "      <td></td>\n",
       "      <td></td>\n",
       "      <td></td>\n",
       "      <td></td>\n",
       "      <td></td>\n",
       "      <td></td>\n",
       "      <td></td>\n",
       "      <td></td>\n",
       "      <td></td>\n",
       "    </tr>\n",
       "    <tr>\n",
       "      <th>12</th>\n",
       "      <td>0.46</td>\n",
       "      <td></td>\n",
       "      <td></td>\n",
       "      <td></td>\n",
       "      <td></td>\n",
       "      <td></td>\n",
       "      <td></td>\n",
       "      <td></td>\n",
       "      <td></td>\n",
       "      <td></td>\n",
       "      <td></td>\n",
       "      <td></td>\n",
       "    </tr>\n",
       "  </tbody>\n",
       "</table>\n",
       "</div>"
      ],
      "text/plain": [
       "age                  0     1     2     3     4     5     6     7     8     9   \\\n",
       "first_order_month                                                               \n",
       "1                  0.58  0.83  1.06  1.17  1.25  1.27   1.3  1.32  1.44  1.56   \n",
       "2                  0.53   0.6  0.61  0.64  0.65  0.66  0.67   0.7  0.72  0.75   \n",
       "3                  0.61  0.65  0.69   0.7  0.71  0.71  0.72  0.76  0.78   0.8   \n",
       "4                  0.51  0.56  0.57  0.57  0.58  0.59  0.59  0.61  0.61         \n",
       "5                  0.67  0.67  0.68   0.7  0.71  0.72  0.74  0.75               \n",
       "6                  0.47  0.48   0.5  0.51  0.53  0.54  0.55                     \n",
       "7                  0.57  0.59  0.61  0.63  0.64  0.65                           \n",
       "8                  0.43  0.45  0.46  0.48  0.49                                 \n",
       "9                  0.49  0.53  0.55  0.57                                       \n",
       "10                 0.53  0.56  0.58                                             \n",
       "11                 0.50  0.52                                                   \n",
       "12                 0.46                                                         \n",
       "\n",
       "age                  10    11  \n",
       "first_order_month              \n",
       "1                  1.68  2.13  \n",
       "2                  0.77        \n",
       "3                              \n",
       "4                              \n",
       "5                              \n",
       "6                              \n",
       "7                              \n",
       "8                              \n",
       "9                              \n",
       "10                             \n",
       "11                             \n",
       "12                             "
      ]
     },
     "execution_count": 375,
     "metadata": {},
     "output_type": "execute_result"
    }
   ],
   "source": [
    "#Y ahora busquemos el ROMI,dividiendo el LTV por el CAC.\n",
    "report_['romi'] = report_['ltv'] / report_['cac'] \n",
    "output = report_.pivot_table( index='first_order_month', columns='age', values='romi', aggfunc='mean' )\n",
    "romi=output.cumsum(axis=1).round(2)\n",
    "romi.fillna('')"
   ]
  },
  {
   "cell_type": "code",
   "execution_count": 376,
   "metadata": {},
   "outputs": [
    {
     "data": {
      "image/png": "[encoded data removed]",
      "text/plain": [
       "<Figure size 576x432 with 2 Axes>"
      ]
     },
     "metadata": {},
     "output_type": "display_data"
    }
   ],
   "source": [
    "plt.figure(figsize=(8, 6))\n",
    "sns.heatmap(romi, cmap='hot', annot=True, fmt=\".1f\")\n",
    "plt.show()"
   ]
  },
  {
   "cell_type": "markdown",
   "metadata": {},
   "source": [
    "El primer cohorte compensa a partir del 3er mes "
   ]
  },
  {
   "cell_type": "markdown",
   "metadata": {},
   "source": [
    "\n",
    "## <span style=\"color:rgba(0, 0, 255, 0.8)\">Conclusión</span>"
   ]
  },
  {
   "cell_type": "markdown",
   "metadata": {},
   "source": [
    "Se recomienda las fuentes con source_id 1, 2 ya que tienen un romi mayor que 1 e indica que el valor del tiempo de vida del cliente es mayor que el costo de adquisición del cliente. En términos simples, esto significa que los ingresos que se obtienen de un cliente a lo largo de su vida útil son mayores que el costo que se requiere para adquirirlo.\n",
    "Además se podría aprovechar la audiencia que está teniendo las fuentes 4 y 5 y reemplazarlas por fuentes menos costosas.\n",
    "Respecto a los cohortes, el primer cohorte recupera la inversión a partir del 3er mes."
   ]
  },
  {
   "cell_type": "markdown",
   "metadata": {},
   "source": [
    "<div class=\"alert alert-block alert-success\">\n",
    "<b>Comentario del revisor. (Iteración 1)</b> <a class=\"tocSkip\"></a>\n",
    "\n",
    "Felicitaciones Lucía, hemos llegado al final del proyecto y has tenido un gran desempeño a lo largo del mismo. Muy bien hecho! En relación a tu conclusión te felicito porque demuestra tu comprensión sobre el proyecto.\n",
    "<div>\n"
   ]
  }
 ],
 "metadata": {
  "kernelspec": {
   "display_name": "Python 3 (ipykernel)",
   "language": "python",
   "name": "python3"
  },
  "language_info": {
   "codemirror_mode": {
    "name": "ipython",
    "version": 3
   },
   "file_extension": ".py",
   "mimetype": "text/x-python",
   "name": "python",
   "nbconvert_exporter": "python",
   "pygments_lexer": "ipython3",
   "version": "3.9.5"
  },
  "toc": {
   "base_numbering": 1,
   "nav_menu": {},
   "number_sections": true,
   "sideBar": true,
   "skip_h1_title": true,
   "title_cell": "Table of Contents",
   "title_sidebar": "Contents",
   "toc_cell": false,
   "toc_position": {},
   "toc_section_display": true,
   "toc_window_display": false
  }
 },
 "nbformat": 4,
 "nbformat_minor": 2
}
